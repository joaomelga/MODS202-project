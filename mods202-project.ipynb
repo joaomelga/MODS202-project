{
 "cells": [
  {
   "cell_type": "markdown",
   "metadata": {},
   "source": [
    "## PART 1 - CROSS-SECTION DATA\n",
    "\n",
    "This part uses the dataset `HPRICE2.RAW` described in `HPRICE2.DES`.\n",
    "\n",
    "---\n",
    "#### **1. State the fundamental hypothesis under which the Ordinary Least Squares (OLS) estimators are unbiased.** "
   ]
  },
  {
   "cell_type": "markdown",
   "metadata": {},
   "source": [
    "Firstly, let $y$ and $x$ be two variables representing some population and, since the goal is to state the dependent variable $y$ in terms of the explanatory variable $x$, we write the simple linear regression model:\n",
    "\n",
    "$$\n",
    "y = \\beta_{0} + \\beta_{1} x + u,\n",
    "$$\n",
    "\n",
    "where the variable $u$ is the disturbance term, standed as well for the unobserved variable, which measures the effect of the change in $y$ with $x$ being unobserved. Moreover, $\\beta_{0}$ is the intercept parameter and $\\beta_{1}$ is called the slope parameter, because, considering $u$ fixed, then $\\Delta u = 0$, and the variation of $y$ is linear with variation of $x$, *i.e.*,\n",
    "\n",
    "$$\n",
    "\\Delta y = \\beta_{1} \\Delta x.\n",
    "$$\n",
    "\n",
    "In order to compute the estimators of $\\beta_{0}$ and $\\beta_{1}$, it is necessary to know the relation beteween the variables $u$ and $x$. To that, we can fist assume that the average alue of $u$ is zero, *i.e.*, \n",
    "\n",
    "$$\n",
    "E(u) = 0.\n",
    "$$\n",
    "\n",
    "Defining the the coditional distribution of $u$ given $x$ and assuming that the average of $u$ does not depend on the value of $x$, we arrive in the following equality:\n",
    "\n",
    "$$\n",
    "E(u|x) = E(u) = 0.\n",
    "$$\n",
    "\n",
    "Finally, considering the equation above and applying the expectation on the simple linear regression model, we obtain:\n",
    "\n",
    "$$\n",
    "E(y|x) = \\beta_{0} +  \\beta_{1} x\n",
    "$$"
   ]
  },
  {
   "cell_type": "markdown",
   "metadata": {},
   "source": [
    "---\n",
    "#### **2. Show that under this assumption the OLS estimators are indeed unbiased.**"
   ]
  },
  {
   "cell_type": "markdown",
   "metadata": {},
   "source": [
    "In order to derive the Ordinary Least Squares (OLS) estimators, we consider $n$ samples $(x_{i}, y_{i})$ with $i = 1, \\cdots, n$, described by\n",
    "\n",
    "$$\n",
    "y_{i} = \\beta_{0} + \\beta_{1} x_{i} + u_{i}.\n",
    "$$\n",
    "\n",
    "From the equation above, it is possible to isolate $u_{i}$ and, then, use the fundamental hypothesis compute the estimators $\\hat \\beta_{0}$ and $\\hat \\beta_{1}$, by the method of moments.\n",
    "\n",
    "$$\n",
    "u_{i} = y_{i} - \\beta_{0} - \\beta_{1} x_{i}\n",
    "$$\n",
    "\n",
    "$$\n",
    "E(u_{i}) = 0 \\iff E(y_{i} - \\beta_{0} - \\beta_{1} x_{i}) = 0\n",
    "\\iff \\frac{1}{n} \\sum_{i=1}^{n}(y_i - \\hat \\beta_0 - \\hat \\beta_1x_i) = 0 \\quad \\quad \\quad \\quad \\quad \\quad \\quad \\quad \\quad \\quad (1)\n",
    "$$\n",
    "\n",
    "$$\n",
    "Cov(x,u) = E(xu) = 0 \\iff E(x_{i}(y_{i} - \\beta_{0} - \\beta_{1} x_{i})) = 0 \n",
    "\\iff \\frac{1}{n}\\sum_{i=1}^{n}x_i(y_i - \\hat \\beta_0 - \\hat \\beta_1x_i) = 0 \\quad \\quad (2)\n",
    "$$\n",
    "\n",
    "Starting from the equations above, we obtaing the following system of equations, which will be solved for the variables $\\hat \\beta_{0}$ and $\\hat \\beta_{1}$.\n",
    "\n",
    "$$\n",
    "\\left\\{\\begin{matrix}\n",
    "\\sum_{i=1}^{n}y_i - n \\hat \\beta_0 - \\hat \\beta_1 \\sum_{i=1}^{n} x_i = 0 \\quad \\quad \\quad \\quad \\quad \\quad \\quad (3)\\\\ \n",
    "\\\\\n",
    "\\sum_{i=1}^{n}x_iy_i - \\hat \\beta_0 \\sum_{i=1}^{n} x_{i} - \\hat \\beta_1 \\sum_{i=1}^{n} x_i^{2} = 0 \\quad \\quad \\quad (4)\n",
    "\\end{matrix}\\right.\n",
    "$$\n",
    "\n",
    "From the equation $(3)$, we obtain that \n",
    "\n",
    "$$\n",
    "\\hat \\beta_0 = \\bar{y} - \\hat \\beta_1 \\bar{x}, \\quad \\quad (5)\n",
    "$$\n",
    "\n",
    "where \n",
    "$$\n",
    "\\bar{x} = \\frac{1}{n} \\sum_{i=1}^{n}x_{i} \\quad \\text{and} \\quad \\bar{y} = \\frac{1}{n} \\sum_{i=1}^{n}y_{i}.\n",
    "$$\n",
    "\n",
    "We now substitute the equation $(5)$ in the equation $(2)$, which gives us the following result:\n",
    "\n",
    "$$\n",
    "\\sum_{i=1}^{n} x_{i} \\left(y_{i} - (\\bar{y} - \\hat \\beta_{1} \\bar{x}) - \\hat \\beta_{1} x_{i}\\right) = 0\n",
    "\\iff \\sum_{i=1}^{n} x_{i} (y_{i} - \\bar{y}) = \\hat \\beta_{1} \\sum_{i=1}^{n} x_{i} (x_{i} - \\bar{x}) \\quad \\quad (6)\n",
    "$$\n",
    "\n",
    "By using the following results, we can rewrite the equation $(6)$ and, therefore, isolate $\\hat \\beta_{1}$.\n",
    "\n",
    "$$\n",
    "\\sum_{i=1}^{n} x_{i} (y_{i} - \\bar{y}) = \\sum_{i=1}^{n} (x_{i} - \\bar{x})(y_{i} - \\bar{y}) \\quad \\text{and} \\quad \n",
    "\\sum_{i=1}^{n} x_{i} (x_{i} - \\bar{x}) = \\sum_{i=1}^{n} (x_{i} - \\bar{x})^{2} > 0\n",
    "$$\n",
    "\n",
    "$$\n",
    "\\hat \\beta_{1} = \\frac{\\sum_{i=1}^{n} (x_{i} - \\bar{x})(y_{i} - \\bar{y})}{\\sum_{i=1}^{n} (x_{i} - \\bar{x})^{2}} \\quad \\quad (7)\n",
    "$$\n",
    "\n",
    "In conclusion, the OLS estimators are given  by\n",
    "\n",
    "$$\n",
    "\\hat \\beta_{0} = \\bar{y} - \\hat \\beta_{1} \\bar{x} \\quad \\text{and} \\quad \\hat \\beta_{1} = \\frac{\\sum_{i=1}^{n} (x_{i} - \\bar{x})(y_{i} - \\bar{y})}{\\sum_{i=1}^{n} (x_{i} - \\bar{x})^{2}},\n",
    "$$\n",
    "\n",
    "where $\\bar{x}$ and $\\bar{y}$ are the means considering $n$ samples of the independent and dependent variables.\n",
    "\n",
    "Now that the estimators have been computed, the goal is to prove that they are unbiased, by calculating their respective expectations. To that, we rewrite the expression of $\\hat \\beta_{1}$ as follows:\n",
    "\n",
    "First, let $s_{x}^{2} = \\sum_{i=1}^{n}(x_{i} - \\bar{x})^{2}$. Then, $\\hat \\beta_{1}$ can we writen as:\n",
    "\n",
    "$$\n",
    "\\hat \\beta_{1} = \\frac{\\sum_{i=1}^{n} y_{i}(x_{i} - \\bar{x})}{\\sum_{i=1}^{n} (x_{i} - \\bar{x})^{2}} = \n",
    "\\frac{\\sum_{i=1}^{n} (\\beta_{0} + \\beta_{1} x_{i} + u_{i})(x_{i} - \\bar{x})}{s_{x}^{2}} = \n",
    "\\frac{\\beta_{0} \\sum_{i=1}^{n} (x_{i} - \\bar{x}) + \\beta_{1} \\sum_{i=1}^{n} (x_{i} - \\bar{x}) x_{i} + \\sum_{i=1}^{n} (x_{i} - \\bar{x}) u_{i}}{s_{x}^{2}}\n",
    "$$\n",
    "\n",
    "From the expression above, we know that \n",
    "* $\\sum_{i=1}^{n} (x_{i} - \\bar{x}) = 0$\n",
    "\n",
    "* $\\sum_{i=1}^{n} (x_{i} - \\bar{x}) x_{i} = s_{x}^{2}$\n",
    "\n",
    "* $x_{i} - \\bar{x} = d_{i}$\n",
    "\n",
    "It turns out, then, that the slope estimator will be given by:\n",
    "\n",
    "$$\n",
    "\\hat \\beta_{1} = \\frac{\\beta_{1} s_{x}^{2} + \\sum_{i=1}^{n} d_{i} u_{i}}{s_{x}^{2}} = \n",
    "\\beta_{1} + \\frac{1}{s_{x}^{2}} \\sum_{i=1}^{n} d_{i} u_{i}\n",
    "$$\n",
    "\n",
    "Then, the bias of the estimator $\\hat \\beta_{1}$ is computed:\n",
    "\n",
    "$$\n",
    "b(\\beta_{1}, \\hat \\beta_{1}) = E(\\hat \\beta_{1}) - \\beta_{1} = \\beta_{1} + \\left( \\frac{1}{s_{x}^{2}} \\sum_{i=1}^{n} E(d_{i} u_{i}) \\right) - \\beta_{1} = \n",
    "\\frac{1}{s_{x}^{2}} \\sum_{i=1}^{n} d_{i} E(u_{i})\n",
    "$$\n",
    "\n",
    "Given that, by hypothesis, $E(u_{i}) = 0$, then the estimator $\\hat \\beta_{1}$ is unbiased, because $b(\\beta_{1}, \\hat \\beta_{1}) = 0$.\n",
    "\n",
    "We do the same procedure for $\\hat \\beta_{0}$, starting by writing it as a function of $\\bar{x}$ and $\\bar{u}$:\n",
    "\n",
    "$$\n",
    "\\hat \\beta_{0} = (\\beta_{0} + \\beta_{1} \\bar{x} + \\bar{u}) - \\hat \\beta_{1} \\bar{x} = \\beta_{0} + (\\beta_{1} - \\hat \\beta_{1}) \\bar{x} + \\bar{u}\n",
    "$$\n",
    "\n",
    "Finally, the bias of the estimator $\\hat \\beta_{0}$ will be given by:\n",
    "\n",
    "$$\n",
    "b(\\beta_{0}, \\hat \\beta_{0}) = E(\\hat \\beta_{0}) - \\beta_{0} = \\beta_{0} + E\\left((\\beta_{1} - \\hat \\beta_{1}) \\bar{x}\\right) + E(\\bar{u}) - \\beta_{0}\n",
    "$$\n",
    "\n",
    "By hypothesis, $E(u_{i}) = 0$ and, given that it was already proved that $E(\\hat \\beta_{1}) = \\beta_{1}$, then, $E\\left((\\beta_{1} - \\hat \\beta_{1}) \\bar{x}\\right) = 0$.\n",
    "\n",
    "From this, we conclude that $b(\\beta_{0}, \\hat \\beta_{0}) = 0$, which means that the estimator is unbiased."
   ]
  },
  {
   "cell_type": "markdown",
   "metadata": {},
   "source": [
    "---\n",
    "#### **3. Explain the sample selection bias with an example from the course.**"
   ]
  },
  {
   "cell_type": "markdown",
   "metadata": {},
   "source": [
    "A sample selection bias occurs when the OLS estimator is affected by using data resulting from non-random sample selection. In an example involving fertilizer and land quality, seen in the course, the issue arises when experiments aren't entirely randomized. Factors known to the experimenter, such as sunlight exposure or susceptibility to pests, may influence the application of fertilizer, leading to sample selection bias."
   ]
  },
  {
   "cell_type": "markdown",
   "metadata": {},
   "source": [
    "---\n",
    "#### **4. Explain the omitted variable bias with an example from the course**"
   ]
  },
  {
   "cell_type": "markdown",
   "metadata": {},
   "source": [
    "This phenomenon happens when there is an exclusion of a relevant variable from the model. Generelly, in this case, the OLS estimators tend to be biased. To prove that, we first consider the true population model, consisting of two explanatory variables and one error term:\n",
    "\n",
    "$$\n",
    "y = \\beta_{0} + \\beta_{1} x_{1} + \\beta_{2} x_{2} + u.\n",
    "$$\n",
    "\n",
    "If we perform a simple linear regression of $y$ on $x_{1}$ exclusively, *i.e.*, we ignore $x_{2}$, we obtain an underspecified model, given by:\n",
    "\n",
    "$$\n",
    "\\widetilde{y} = \\widetilde{\\beta_{0}} + \\widetilde{\\beta_{1}} x_{1}\n",
    "$$\n",
    "\n",
    "If we derive an expression for $\\widetilde{\\beta_{1}}$, we will otain the a similar equation as $(7)$, as follows:\n",
    "\n",
    "$$\n",
    "\\widetilde{\\beta_{1}} = \\frac{\\sum_{i=1}^{n} y_{i}(x_{i1} - \\bar{x}_{1})}{\\sum_{i=1}^{n} (x_{i1} - \\bar{x}_{1})^{2}} \\quad \\quad \\quad \\quad (8)\n",
    "$$\n",
    "\n",
    "Next, considering the true model, for each observation $i$, we can write\n",
    "\n",
    "$$\n",
    "y_{i} = \\beta_{0} + \\beta_{1} x_{i1} + \\beta_{2} x_{i2} + u_{i} \\quad \\quad (9)\n",
    "$$\n",
    "\n",
    "Substituting $(9)$ in $(8)$, the numerator of $(8)$ will be given by:\n",
    "\n",
    "$$\n",
    "\\sum_{i=1}^{n} (\\beta_{0} + \\beta_{1} x_{i1} + \\beta_{2} x_{i2} + u_{i})(x_{i1} - \\bar{x}_{1}) = \n",
    "\\beta_{1} \\sum_{i=1}^{n} (x_{i1} - \\bar{x}_{1})^{2} + \\beta_{2} \\sum_{i=1}^{n} (x_{i1} - \\bar{x}_{1}) x_{i2} + \\sum_{i=1}^{n} (x_{i1} - \\bar{x}_{1}) u_{i} \\quad \\quad (10)\n",
    "$$\n",
    "\n",
    "With $(10)$, the equation $(8)$ can be rewritten as:\n",
    "\n",
    "$$\n",
    "\\widetilde{\\beta_{1}} = \\beta_{1} + \\beta_{2} \\frac{\\sum_{i=1}^{n} (x_{i1} - \\bar{x}_{1}) x_{i2}}{\\sum_{i=1}^{n} (x_{i1} - \\bar{x}_{1})^{2}} + \\frac{\\sum_{i=1}^{n} (x_{i1} - \\bar{x}_{1}) u_{i}}{\\sum_{i=1}^{n} (x_{i1} - \\bar{x}_{1})^{2}} \\quad \\quad (11)\n",
    "$$\n",
    "\n",
    "Finally, using the fact that $E(u_{i}) = 0$, we take the expectation of the estimator $\\widetilde{\\beta_{1}}$:\n",
    "\n",
    "$$\n",
    "E(\\widetilde{\\beta_{1}}) = \\beta_{1} + \\beta_{2} \\frac{\\sum_{i=1}^{n} (x_{i1} - \\bar{x}_{1}) x_{i2}}{\\sum_{i=1}^{n} (x_{i1} - \\bar{x}_{1})^{2}} \\neq \\beta_{1},\n",
    "$$\n",
    "\n",
    "which leads to the fact that $\\widetilde{\\beta_{1}}$ is biased.\n",
    "\n",
    "One example seen in the course, was the following model:\n",
    "\n",
    "$$\n",
    "wage = \\beta_{0} + \\beta_{1} education + \\beta_{2} ability + u\n",
    "$$\n",
    "\n",
    "The bias of the estimator of $\\beta_{1}$ was verified after having underspecified the model by running a simple linear regression of $wage$ on $education$, despising the $ability$ term."
   ]
  },
  {
   "cell_type": "markdown",
   "metadata": {},
   "source": [
    "---\n",
    "#### **5. Explain the problem of multicollinearity. Is it a problem in this dataset?**"
   ]
  },
  {
   "cell_type": "markdown",
   "metadata": {},
   "source": [
    "Multicollinearity refers to a situation in which two or more predictor variables in a multiple regression model are highly correlated. This means that one variable can be linearly predicted from the others with a substantial degree of accuracy.\n",
    "\n",
    "If this is the case, the determinant of the matrix $X^{\\prime}X$ becomes zero or nearly zero.\n",
    "\n",
    "$$\n",
    "det(X^\\prime X) = 0 \n",
    "$$\n",
    "\n",
    "In such instances, the matrix $ (X^\\prime X) $ is non-invertible, rendering the computation of the OLS estimator impossible.\n",
    "\n",
    "The presence of multicollinearity can also be detected using the R-squared value. In this context, the R-squared value is obtained from regressing each predictor on all other predictors. A high R-squared value indicates that a predictor can be well explained by other predictors, suggesting the presence of multicollinearity.\n",
    "\n",
    "Multicollinearity can inflate the variance of the coefficient estimates, making them unstable and difficult to interpret. This is problematic for understanding your model and making inferences about the relationships between variables.\n",
    "\n",
    "One common method to quantify multicollinearity is the Variance Inflation Factor (VIF), which is defined as VIF = 1 / (1 - R-square). The VIF depends on the R-squared value and provides a measure of how much the variance of the estimated regression coefficient is increased due to multicollinearity.\n",
    "\n",
    "In Python, it’s relatively straightforward to calculate the VIF using packages such as statsmodels. If multicollinearity is found to be a problem, you might consider dropping one of the correlated variables, combining the correlated variables into one, or using techniques such as ridge regression or principal component analysis.\n",
    "\n",
    "Unfortunately, the dataset for this project exhibit multicollinearity, what's visible by the high values of VIF obtained."
   ]
  },
  {
   "cell_type": "code",
   "execution_count": 86,
   "metadata": {},
   "outputs": [
    {
     "name": "stdout",
     "output_type": "stream",
     "text": [
      "     feature           VIF\n",
      "0      crime      2.238702\n",
      "1        nox   2999.062946\n",
      "2      rooms    154.259820\n",
      "3       dist     17.317832\n",
      "4     radial     20.251521\n",
      "5    proptax    327.750900\n",
      "6    stratio    136.290494\n",
      "7    lowstat     12.732855\n",
      "8     lprice   1966.712684\n",
      "9       lnox  10381.374134\n",
      "10  lproptax   5710.168831\n"
     ]
    }
   ],
   "source": [
    "import numpy as np\n",
    "import pandas as pd\n",
    "import statsmodels.api as sm\n",
    "from scipy.stats import t, f\n",
    "import matplotlib.pyplot as plt\n",
    "from statsmodels.stats.outliers_influence import variance_inflation_factor \n",
    "from statsmodels.stats.diagnostic import het_breuschpagan\n",
    "\n",
    "raw_data_path = 'textfiles/HPRICE2.raw'\n",
    "labels_path = 'textfiles/HPRICE2.DES'\n",
    "\n",
    "raw_data = np.loadtxt(raw_data_path)\n",
    "\n",
    "# TO DO: read \\n in the labels file\n",
    "with open(labels_path, 'r') as file:\n",
    "    file.readline()\n",
    "    file.readline()\n",
    "\n",
    "    labels_line = file.readline().strip()\n",
    "    labels = np.array(labels_line.split())\n",
    "\n",
    "\n",
    "df = pd.DataFrame(raw_data, columns=labels)\n",
    "\n",
    "Y = df['price']\n",
    "X = df.drop('price', axis=1)\n",
    "\n",
    "vif_data = pd.DataFrame() \n",
    "vif_data[\"feature\"] = X.columns \n",
    "vif_data[\"VIF\"] = [variance_inflation_factor(X.values, i) for i in range(len(X.columns))] \n",
    "# Exibir os resultados\n",
    "print(vif_data)"
   ]
  },
  {
   "cell_type": "markdown",
   "metadata": {},
   "source": [
    "---\n",
    "#### **6. Create three categories of nox levels (low, medium, high), corresponding to the following percentiles: 0-25%, 26%-74%, 75%-100%**"
   ]
  },
  {
   "cell_type": "code",
   "execution_count": 87,
   "metadata": {},
   "outputs": [],
   "source": [
    "nox_percentiles_threshholds = np.percentile(df['nox'], [25, 50, 75])\n",
    "nox_categories = np.digitize(df['nox'], nox_percentiles_threshholds)\n",
    "\n",
    "df['nox_category'] = nox_categories\n",
    "\n",
    "low_nox = df[df['nox_category'] == 0]\n",
    "medium_nox = df[df['nox_category'] == 1]\n",
    "high_nox = df[df['nox_category'] == 2]"
   ]
  },
  {
   "cell_type": "markdown",
   "metadata": {},
   "source": [
    "---\n",
    "#### **7. Compute for each category of nox level the average median price and comment on your results**\n",
    "\n",
    "From these results, it appears that there is a negative relationship between the level of NOx and the average median price. Properties in areas with low levels of NOx have the highest average median price, while those in areas with high levels of NOx have the lowest average median price. This could suggest that air quality, as indicated by NOx levels, may be a factor that influences property prices. However, this is just an observation from the given data. To establish a causal relationship, a more rigorous analysis would be needed, controlling for other factors that could also influence property prices."
   ]
  },
  {
   "cell_type": "code",
   "execution_count": 88,
   "metadata": {},
   "outputs": [
    {
     "name": "stdout",
     "output_type": "stream",
     "text": [
      "Price means\n",
      "Low NOx:  27079.58\n",
      "Medium NOx:  25530.69\n",
      "High NOx:  20624.14\n"
     ]
    }
   ],
   "source": [
    "print('Price means')\n",
    "print('Low NOx: ', round(low_nox['price'].mean(), 2))\n",
    "print('Medium NOx: ', round(medium_nox['price'].mean(), 2))\n",
    "print('High NOx: ', round(high_nox['price'].mean(), 2))"
   ]
  },
  {
   "cell_type": "markdown",
   "metadata": {},
   "source": [
    "---\n",
    "#### **8. Produce a scatter plot with the variable price on the y-axis and the variable nox on the x-axis. Is this a ceteris paribus effect?**"
   ]
  },
  {
   "cell_type": "code",
   "execution_count": 89,
   "metadata": {},
   "outputs": [
    {
     "data": {
      "image/png": "[encoded data removed]",
      "text/plain": [
       "<Figure size 640x480 with 1 Axes>"
      ]
     },
     "metadata": {},
     "output_type": "display_data"
    }
   ],
   "source": [
    "import statsmodels.api as sm\n",
    "\n",
    "X = df['nox']\n",
    "y = df['price']\n",
    "\n",
    "X = sm.add_constant(X)  # Add a constant term to the predictor variable\n",
    "\n",
    "model = sm.OLS(y, X).fit()  # Fit the linear regression model\n",
    "r_squared = model.rsquared  # Get the R-squared value\n",
    "\n",
    "print(\"R-squared:\", r_squared)\n",
    "\n",
    "plt.scatter(df['nox'], df['price'])\n",
    "plt.xlabel('nox')\n",
    "plt.ylabel('price')\n",
    "plt.title('Scatter Plot: nox vs price')\n",
    "plt.show()\n",
    "\n",
    "# TO DO: comment the results"
   ]
  },
  {
   "cell_type": "markdown",
   "metadata": {},
   "source": [
    "---\n",
    "#### **9. Run a regression of price on a constant, crime, nox, rooms, proptax. Comment on the histogram of the residuals. Interpret all coefficients.**\n",
    "\n",
    "As for the histogram of residuals, if it has a mean of 0 but high variance, this could suggest the presence of collinearity among your independent variables. Collinearity refers to a situation in which two or more predictor variables in a multiple regression model are highly correlated, meaning that one can be linearly predicted from the others with a substantial degree of accuracy.\n",
    "\n",
    "In the presence of collinearity, the estimate of one variable’s impact on the dependent variable price while holding the others constant may not be reliable. The standard errors can be inflated, leading to larger confidence intervals or non-significant results (due to higher p-values), even if the predictor variables are truly related to the outcome.\n"
   ]
  },
  {
   "cell_type": "code",
   "execution_count": 90,
   "metadata": {},
   "outputs": [
    {
     "name": "stdout",
     "output_type": "stream",
     "text": [
      "Question 9\n",
      "Var(u|X) =  35953748.17\n"
     ]
    },
    {
     "data": {
      "image/png": "[encoded data removed]",
      "text/plain": [
       "<Figure size 640x480 with 1 Axes>"
      ]
     },
     "metadata": {},
     "output_type": "display_data"
    }
   ],
   "source": [
    "# Define the independent variables\n",
    "X = df[['crime', 'nox', 'rooms', 'proptax']]\n",
    "X = sm.add_constant(X)  # Add a constant column\n",
    "\n",
    "# Define the dependent variable\n",
    "y = df['price']\n",
    "\n",
    "# Fit the regression model\n",
    "model_fit_q9 = sm.OLS(y, X).fit()\n",
    "residuals = model_fit_q9.resid\n",
    "\n",
    "print('Question 9')\n",
    "print('Var(u|X) = ', round(np.var(residuals), 2))\n",
    "\n",
    "plt.hist(residuals, bins=50)\n",
    "plt.xlabel('Residuals')\n",
    "plt.ylabel('Frequency')\n",
    "plt.title('Histogram of Residuals')\n",
    "plt.show()\n",
    "\n",
    "# TO DO: comment the results"
   ]
  },
  {
   "cell_type": "markdown",
   "metadata": {},
   "source": [
    "Coeficients interpretations\n",
    "\n",
    "**All constant (intercept)**: -18,680\n",
    "- When all independent variables (crime, nox, rooms, proptax) are zero, the predicted value of the dependent variable (price) is -18,680. This may not have much sense.\n",
    "\n",
    "**Variable \"crime\":**: -136.5438\n",
    "- Holding other variables constant, a one-unit increase in the \"crime\" variable is associated with a decrease in the predicted value of the price by 136.5438 units.\n",
    "\n",
    "**Variable \"nox\":**: -660.4672\n",
    "- Holding other variables constant, a one-unit increase in the \"nox\" variable is associated with a decrease in the predicted value of the price by 660.4672 units.\n",
    "\n",
    "**Variable \"rooms\":**: 7797.9286\n",
    "- Holding other variables constant, a one-unit increase in the \"rooms\" variable is associated with an increase in the predicted value of the price by 7797.9286 units.\n",
    "\n",
    "**Variable \"proptax\":**: -89.4144\n",
    "- Holding other variables constant, a one-unit increase in the \"proptax\" variable is associated with a decrease in the predicted value of the price by 89.4144 units."
   ]
  },
  {
   "cell_type": "markdown",
   "metadata": {},
   "source": [
    "---\n",
    "#### **10. Run a regression of lprice on a constant, crime, nox, rooms, proptax. Comment on the histogram of the residuals. Interpret all coefficients.**\n",
    "\n",
    "Regarding the histogram of residuals, if it has a mean of 0 and low variance, this suggests that the model’s assumptions are likely being met. The residuals of a well-specified linear regression model should be normally distributed with a mean of 0, and having low variance indicates homoscedasticity at a certain level, which is another assumption of linear regression. However, it’s always a good idea to conduct formal statistical tests or use diagnostic plots to check these assumptions more rigorously."
   ]
  },
  {
   "cell_type": "code",
   "execution_count": 91,
   "metadata": {},
   "outputs": [
    {
     "name": "stdout",
     "output_type": "stream",
     "text": [
      "Question 10\n",
      "Var(u|X) =  0.06\n"
     ]
    },
    {
     "data": {
      "image/png": "[encoded data removed]",
      "text/plain": [
       "<Figure size 640x480 with 1 Axes>"
      ]
     },
     "metadata": {},
     "output_type": "display_data"
    }
   ],
   "source": [
    "# Define the independent variables\n",
    "X = df[['crime', 'nox', 'rooms', 'proptax']]\n",
    "X = sm.add_constant(X)  # Add a constant column\n",
    "\n",
    "# Define the dependent variable\n",
    "Y = df['lprice']\n",
    "\n",
    "# Fit the regression model\n",
    "model_fit_q10 = sm.OLS(Y, X).fit()\n",
    "residuals = model_fit_q10.resid\n",
    "\n",
    "print('Question 10')\n",
    "print('Var(u|X) = ', round(np.var(residuals), 2))\n",
    "\n",
    "plt.hist(residuals, bins=50)\n",
    "plt.xlabel('Residuals')\n",
    "plt.ylabel('Frequency')\n",
    "plt.title('Histogram of Residuals')\n",
    "plt.show()"
   ]
  },
  {
   "cell_type": "markdown",
   "metadata": {},
   "source": [
    "Coeficients interpretations\n",
    "\n",
    "**All constant (intercept)**: 8.6550\n",
    "- When all independent variables (crime, nox, rooms, proptax) are zero, the predicted value of the price is 8.6550.\n",
    "\n",
    "**Variable \"crime\"**: -0.0125\n",
    "- Holding other variables constant, a one-unit increase in the \"crime\" variable is associated with a decrease in the predicted value of the price by 0.0125 units.\n",
    "\n",
    "**Variable \"nox\"**: -0.0476\n",
    "- Holding other variables constant, a one-unit increase in the \"nox\" variable is associated with a decrease in the predicted value of the price by 0.0476 units.\n",
    "\n",
    "**Variable \"rooms\"**: 0.2816\n",
    "- Holding other variables constant, a one-unit increase in the \"rooms\" variable is associated with an increase in the predicted value of the price by 0.2816 units.\n",
    "\n",
    "**Variable \"proptax\"**: -0.0043\n",
    "- Holding other variables constant, a one-unit increase in the \"proptax\" variable is associated with a decrease in the predicted value of the price by 0.0043 units."
   ]
  },
  {
   "cell_type": "markdown",
   "metadata": {},
   "source": [
    "---\n",
    "#### **11. Run a regression of lprice on a constant, crime, lnox, rooms, lproptax. Comment on the histogram of the residuals. Interpret all coefficients.**\n",
    "\n",
    "As for the histogram of residuals, since it’s quite similar to the previous question with a mean of 0 and low variance, this suggests that the model’s assumptions are likely being met."
   ]
  },
  {
   "cell_type": "code",
   "execution_count": 92,
   "metadata": {},
   "outputs": [
    {
     "name": "stdout",
     "output_type": "stream",
     "text": [
      "Question 11\n",
      "Var(u|X) =  0.07\n"
     ]
    },
    {
     "data": {
      "image/png": "[encoded data removed]",
      "text/plain": [
       "<Figure size 640x480 with 1 Axes>"
      ]
     },
     "metadata": {},
     "output_type": "display_data"
    }
   ],
   "source": [
    "import statsmodels.api as sm\n",
    "\n",
    "# Define the independent variables\n",
    "X = df[['crime', 'lnox', 'rooms', 'proptax']]\n",
    "X = sm.add_constant(X)  # Add a constant column\n",
    "\n",
    "# Define the dependent variable\n",
    "y = df['lprice']\n",
    "\n",
    "# Fit the regression model\n",
    "model_fit_q11 = sm.OLS(y, X).fit()\n",
    "residuals = model_fit_q11.resid\n",
    "\n",
    "print('Question 11')\n",
    "print('Var(u|X) = ', round(np.var(residuals), 2))\n",
    "\n",
    "plt.hist(residuals, bins=50)\n",
    "plt.xlabel('Residuals')\n",
    "plt.ylabel('Frequency')\n",
    "plt.title('Histogram of Residuals')\n",
    "plt.show()"
   ]
  },
  {
   "cell_type": "markdown",
   "metadata": {},
   "source": [
    "Coeficients interpretation\n",
    "\n",
    "**All constant (intercept)**: 8.8553\n",
    "- When all independent variables (crime, nox, rooms, proptax) are zero, the predicted value of the price is 8.8553.\n",
    "\n",
    "**Variable \"crime\"**: -0.0125\n",
    "- Holding other variables constant, a one-unit increase in the \"crime\" variable is associated with a decrease in the predicted value of the price by 0.0125 units.\n",
    "\n",
    "**Variable \"nox\"**: -0.0476\n",
    "- Holding other variables constant, a one-unit increase in the \"nox\" variable is associated with a decrease in the predicted value of the price by 0.0476 units.\n",
    "\n",
    "**Variable \"rooms\"**: 0.2816\n",
    "- Holding other variables constant, a one-unit increase in the \"rooms\" variable is associated with an increase in the predicted value of the price by 0.2816 units.\n",
    "\n",
    "**Variable \"proptax\"**: -0.0042\n",
    "- Holding other variables constant, a one-unit increase in the \"proptax\" variable is associated with a decrease in the predicted value of the price by 0.0042 units."
   ]
  },
  {
   "cell_type": "markdown",
   "metadata": {},
   "source": [
    "---\n",
    "#### **12. In the specification of question 10, test the hypothesis H0: $\\beta_{nox} < 0$ vs. H1: $\\beta_{nox} > 0$ at the 1% level.**\n",
    "\n",
    "To test the hypothesis H0: $\\beta_{nox} < 0$ vs. H1: $\\beta_{nox} > 0$ at the 1% level, we would first run the regression and obtain the estimated coefficient $\\hat{\\beta}_{nox}$ and its standard error. \n",
    "\n",
    "Next, we calculate the t-statistic as $\\frac{\\hat{\\beta}_{nox}}{SE(\\hat{\\beta}_{nox})}$. This t-statistic follows a t-distribution under the null hypothesis.\n",
    "\n",
    "Since we are testing $\\beta_{nox} > 0$, we are interested in the right tail of the t-distribution. We compare our calculated t-statistic with the critical value from the t-distribution table at the 1% significance level. If our t-statistic is greater than the critical value, we reject the null hypothesis.\n",
    "\n",
    "The p-value is the smallest significance level at which we would reject the null hypothesis. It's the probability of observing a t-statistic as extreme as, or more extreme than, the one calculated, given that the null hypothesis is true. We can find the p-value using statistical software, which calculates the area under the t-distribution to the right of our calculated t-statistic.\n",
    "\n",
    "If the reported p-value is less than 0.01 (the 1% significance level), we reject the null hypothesis and conclude that $\\beta_{nox} > 0$."
   ]
  },
  {
   "cell_type": "code",
   "execution_count": 93,
   "metadata": {},
   "outputs": [
    {
     "name": "stdout",
     "output_type": "stream",
     "text": [
      "Reject the null hypothesis. p-value: 0.0002053\n"
     ]
    }
   ],
   "source": [
    "#Get information from the model\n",
    "beta_nox = model_fit_q10.params['nox']\n",
    "se_nox = model_fit_q10.bse['nox']\n",
    "\n",
    "# t-statistic\n",
    "t_value = beta_nox / se_nox\n",
    "deg_freedom = model_fit_q10.df_resid\n",
    "\n",
    "# One-sided p-value\n",
    "p_value_one_tailed = 1 - t.cdf(abs(t_value), deg_freedom)\n",
    "alpha = 0.01\n",
    "\n",
    "# Compare the p-value with the significance level\n",
    "if p_value_one_tailed < alpha:\n",
    "    print(f'Reject the null hypothesis. p-value: {p_value_one_tailed:.7f}')\n",
    "else:\n",
    "    print(\n",
    "        f'Fail to reject the null hypothesis. p-value: {p_value_one_tailed:.7f}')"
   ]
  },
  {
   "cell_type": "markdown",
   "metadata": {},
   "source": [
    "---\n",
    "#### **13. In the specification of question 10, test the hypothesis H0: $\\beta_{nox}$ = 0 vs. H1: $\\beta_{nox}$ ≠ 0 at the 1% level using the p-value of the test.**"
   ]
  },
  {
   "cell_type": "code",
   "execution_count": 94,
   "metadata": {},
   "outputs": [
    {
     "name": "stdout",
     "output_type": "stream",
     "text": [
      "Reject the null hypothesis. p-value: 0.0004107\n"
     ]
    }
   ],
   "source": [
    "#Get information from the model\n",
    "beta_nox = model_fit_q10.params['nox']\n",
    "se_nox = model_fit_q10.bse['nox']\n",
    "\n",
    "# t-statistic\n",
    "t_value = beta_nox / se_nox\n",
    "\n",
    "# Two-sided p-value\n",
    "p_value_two_tailed = 2 * (1 - t.cdf(abs(t_value), deg_freedom))\n",
    "alpha = 0.01\n",
    "\n",
    "# Compare the p-value with the significance level\n",
    "if p_value_two_tailed < alpha:\n",
    "    print(f'Reject the null hypothesis. p-value: {p_value_two_tailed:.7f}')\n",
    "else:\n",
    "    print(\n",
    "        f'Fail to reject the null hypothesis. p-value: {p_value_two_tailed:.7f}')"
   ]
  },
  {
   "cell_type": "markdown",
   "metadata": {},
   "source": [
    "---\n",
    "#### **14. In the specification of question 10, test the hypothesis H0: $\\beta_{crime}$ = $\\beta_{proptax}$ at the 10% level.**"
   ]
  },
  {
   "cell_type": "code",
   "execution_count": 95,
   "metadata": {},
   "outputs": [
    {
     "name": "stdout",
     "output_type": "stream",
     "text": [
      "Reject the null hypothesis. p-value: 0.0003202\n"
     ]
    }
   ],
   "source": [
    "#Get information from the model\n",
    "beta_crime = model_fit_q10.params['crime']\n",
    "beta_proptax = model_fit_q10.params['proptax']\n",
    "se_crime = model_fit_q10.bse['crime']\n",
    "se_proptax = model_fit_q10.bse['proptax']\n",
    "\n",
    "# Get covariance matrix\n",
    "cov_matrix = model_fit_q10.cov_params()\n",
    "cov_crime_proptax = cov_matrix.loc['crime', 'proptax']\n",
    "\n",
    "# Sqrt of the sum of squared standard errors minus 2 times the covariance\n",
    "se_crime_minus_proptax = np.sqrt(se_crime**2 + se_proptax**2 - 2 * cov_crime_proptax)\n",
    "\n",
    "# t-statistic\n",
    "t_value = (beta_crime - beta_proptax) / se_crime_minus_proptax\n",
    "deg_freedom = model_fit_q10.df_resid\n",
    "\n",
    "# Two-sided p-value\n",
    "p_value = 2 * (1 - t.cdf(abs(t_value), deg_freedom))\n",
    "alpha = 0.1\n",
    "\n",
    "# Compare the p-value with the significance level\n",
    "if p_value < alpha:\n",
    "    print(f'Reject the null hypothesis. p-value: {p_value:.7f}')\n",
    "else:\n",
    "    print(\n",
    "        f'Fail to reject the null hypothesis. p-value: {p_value:.7f}')"
   ]
  },
  {
   "cell_type": "markdown",
   "metadata": {},
   "source": [
    "---\n",
    "#### **15. In the specification of question 10, test the hypothesis H0: $\\beta_{crime} = 0$, $\\beta_{proptax} = 0$ at the 10% level.** "
   ]
  },
  {
   "cell_type": "code",
   "execution_count": 96,
   "metadata": {},
   "outputs": [
    {
     "name": "stdout",
     "output_type": "stream",
     "text": [
      "F-value: 64.43\n",
      "Reject the null hypothesis. p-value: 0.000000000000000222044604925031\n"
     ]
    }
   ],
   "source": [
    "# Define X unrestricted and restricted\n",
    "X_ur = df[['crime', 'nox', 'rooms', 'proptax']]\n",
    "X_ur = sm.add_constant(X_ur)\n",
    "\n",
    "Xr = df[['nox', 'rooms']]\n",
    "Xr = sm.add_constant(Xr)\n",
    "\n",
    "Y = df['lprice']\n",
    "\n",
    "model_ur = sm.OLS(Y, X_ur).fit()\n",
    "model_r = sm.OLS(Y, Xr).fit()\n",
    "\n",
    "SSR_ur = model_ur.ssr\n",
    "SSR_r = model_r.ssr\n",
    "\n",
    "alpha = 0.1\n",
    "q = model_r.df_resid - model_ur.df_resid\n",
    "n_k_1 = model_ur.df_resid\n",
    "\n",
    "F = ((SSR_r - SSR_ur) / q) / (SSR_ur / n_k_1)\n",
    "p_value = 2 * (1 - f.cdf(F, q, n_k_1))\n",
    "\n",
    "print(f'F-value: {F:.2f}')\n",
    "\n",
    "alpha = 0.1\n",
    "\n",
    "if p_value < alpha:\n",
    "    print(f'Reject the null hypothesis. p-value: {p_value:.30f}')\n",
    "else:\n",
    "    print(\n",
    "        f'Fail to reject the null hypothesis. p-value: {p_value:.30f}')"
   ]
  },
  {
   "cell_type": "markdown",
   "metadata": {},
   "source": [
    "---\n",
    "#### **16. In the specification of question 10, test the hypothesis H0: $\\beta_{crime}$ = -500, $\\beta_{proptax}$ = -100 at the 10% level.**"
   ]
  },
  {
   "cell_type": "code",
   "execution_count": 97,
   "metadata": {},
   "outputs": [
    {
     "name": "stdout",
     "output_type": "stream",
     "text": [
      "F-value: 80013196057.37\n",
      "Reject the null hypothesis. p-value: 0.000000000000000111022302462516\n"
     ]
    }
   ],
   "source": [
    "# Define X unrestricted and restricted\n",
    "X_ur = df[['crime', 'nox', 'rooms', 'proptax']]\n",
    "X_ur = sm.add_constant(X_ur)\n",
    "\n",
    "X_r = df[['nox', 'rooms']]\n",
    "X_r = sm.add_constant(X_r)\n",
    "\n",
    "Y_ur = df['lprice']\n",
    "Y_r = df['lprice'] + 500*df['crime'] + 100*df['proptax']\n",
    "\n",
    "model_ur = sm.OLS(Y_ur, X_ur).fit()\n",
    "model_r = sm.OLS(Y_r, X_r).fit()\n",
    "\n",
    "SSR_ur = model_ur.ssr\n",
    "SSRr = model_r.ssr\n",
    "\n",
    "alpha = 0.1\n",
    "q = model_r.df_resid - model_ur.df_resid\n",
    "n_k_1 = model_ur.df_resid\n",
    "\n",
    "F = ((SSRr - SSR_ur) / q) / (SSR_ur / n_k_1)\n",
    "p_value = 1 - f.cdf(F, q, n_k_1)\n",
    "\n",
    "print(f'F-value: {F:.2f}')\n",
    "alpha = 0.1\n",
    "\n",
    "if p_value < alpha:\n",
    "    print(f'Reject the null hypothesis. p-value: {p_value:.30f}')\n",
    "else:\n",
    "    print(\n",
    "        f'Fail to reject the null hypothesis. p-value: {p_value:.30f}')"
   ]
  },
  {
   "cell_type": "markdown",
   "metadata": {},
   "source": [
    "---\n",
    "#### **17. In the specification of question 10, test the hypothesis H0: $\\beta_{crime}$ + $\\beta_{proptax}$ = -1000 at the 10% level.** "
   ]
  },
  {
   "cell_type": "code",
   "execution_count": 98,
   "metadata": {},
   "outputs": [
    {
     "name": "stdout",
     "output_type": "stream",
     "text": [
      "t-value: 665984.31\n",
      "Reject the null hypothesis. p-value: 0.000000000000000000000000000000\n"
     ]
    }
   ],
   "source": [
    "X = df[['crime', 'nox', 'rooms']].copy()\n",
    "X['crime_minus_tax'] = df['crime'] - df['proptax']\n",
    "X = sm.add_constant(X)\n",
    "\n",
    "Y = df['lprice']\n",
    "\n",
    "# We first consider our model as:\n",
    "#   lprice = b_const + b_crime * crime + b_nox * nox + b_rooms * rooms + b_proptax * proptax + u\n",
    "# \n",
    "# Then we assume that:\n",
    "#   theta = b_crime + b_proptax\n",
    "#   b_crime =  theta - b_proptax\n",
    "# \n",
    "# And our model becomes:\n",
    "#   lprice = \n",
    "#       b_const + \n",
    "#       theta * crime + \n",
    "#       b_nox * nox + \n",
    "#       b_rooms * rooms + \n",
    "#       b_proptax * (crime - proptax) + \n",
    "#       u\n",
    "\n",
    "model_fit_q17 = sm.OLS(Y, X).fit()\n",
    "\n",
    "theta = model_fit_q17.params['crime']\n",
    "bse_crime = model_fit_q17.bse['crime']\n",
    "\n",
    "# H0: theta = -1000\n",
    "t_value = (theta + 1000) / bse_crime\n",
    "alpha = 0.1\n",
    "\n",
    "print(f't-value: {t_value:.2f}')\n",
    "\n",
    "# Two-sided p-value\n",
    "p_value_two_tailed = 2 * (1 - t.cdf(abs(t_value), deg_freedom))\n",
    "alpha = 0.01\n",
    "\n",
    "# Compare the p-value with the significance level\n",
    "if p_value_two_tailed < alpha:\n",
    "    print(f'Reject the null hypothesis. p-value: {p_value_two_tailed:.30f}')\n",
    "else:\n",
    "    print(\n",
    "        f'Fail to reject the null hypothesis. p-value: {p_value_two_tailed:.30f}')"
   ]
  },
  {
   "cell_type": "markdown",
   "metadata": {},
   "source": [
    "---\n",
    "#### **18. In the specification of question 10, test the hypothesis that all coefficients are the same for observations with low levels of nox vs. medium and high levels of nox.**"
   ]
  },
  {
   "cell_type": "code",
   "execution_count": 99,
   "metadata": {},
   "outputs": [
    {
     "name": "stdout",
     "output_type": "stream",
     "text": [
      "F-value: 142.21\n",
      "Reject the null hypothesis. p-value: 0.000000000000000111022302462516\n"
     ]
    }
   ],
   "source": [
    "# Fit the models\n",
    "low_nox = df[df['nox_category'] == 0].copy()\n",
    "medium_high_nox = df[df['nox_category'] != 0].copy()\n",
    "\n",
    "# Fit the unrestricted model\n",
    "X_ur = low_nox[['crime', 'nox', 'rooms', 'proptax']]\n",
    "X_ur = sm.add_constant(X_ur)\n",
    "Y_ur = low_nox['lprice']\n",
    "\n",
    "model_ur = sm.OLS(Y_ur, X_ur).fit()\n",
    "\n",
    "# Fit the restricted model\n",
    "X_r = sm.add_constant(medium_high_nox[['crime', 'nox', 'rooms', 'proptax']])[['const']]\n",
    "Y_r = medium_high_nox['lprice'] \\\n",
    "    - model_ur.params['crime'] * medium_high_nox['crime'] \\\n",
    "    - model_ur.params['nox'] * medium_high_nox['nox'] \\\n",
    "    - model_ur.params['rooms'] * medium_high_nox['rooms'] \\\n",
    "    - model_ur.params['proptax'] * medium_high_nox['proptax']\n",
    "\n",
    "model_r = sm.OLS(Y_r, X_r).fit()\n",
    "\n",
    "# Calculate the F-statistic\n",
    "SSR_ur = model_ur.ssr\n",
    "SSRr = model_r.ssr\n",
    "\n",
    "alpha = 0.1\n",
    "q = model_r.df_resid - model_ur.df_resid\n",
    "n_k_1 = model_ur.df_resid\n",
    "\n",
    "F = ((SSRr - SSR_ur) / q) / (SSR_ur / n_k_1)\n",
    "p_value = 1 - f.cdf(F, q, n_k_1)\n",
    "\n",
    "print(f'F-value: {F:.2f}')\n",
    "alpha = 0.1\n",
    "\n",
    "if p_value < alpha:\n",
    "    print(f'Reject the null hypothesis. p-value: {p_value:.30f}')\n",
    "else:\n",
    "    print(f'Fail to reject the null hypothesis. p-value: {p_value:.30f}')"
   ]
  },
  {
   "cell_type": "markdown",
   "metadata": {},
   "source": [
    "---\n",
    "#### **19. Repeat the test of question 18 but now assuming that only the coefficients of nox and proptax can change between the two groups of observations. State and test H0.** "
   ]
  },
  {
   "cell_type": "code",
   "execution_count": 105,
   "metadata": {},
   "outputs": [
    {
     "name": "stdout",
     "output_type": "stream",
     "text": [
      "F-value: 12.7436641940\n",
      "Reject the null hypothesis. p-value: 0.000000000000000111022302462516\n"
     ]
    }
   ],
   "source": [
    "# Fit the models\n",
    "low_nox = df[df['nox_category'] == 0].copy()\n",
    "medium_high_nox = df[df['nox_category'] != 0].copy()\n",
    "\n",
    "# Fit the unrestricted model\n",
    "X_ur = low_nox[['crime', 'nox', 'rooms', 'proptax']]\n",
    "X_ur = sm.add_constant(X_ur)\n",
    "Y_ur = low_nox['lprice']\n",
    "\n",
    "model_ur = sm.OLS(Y_ur, X_ur).fit()\n",
    "\n",
    "# Fit the restricted model\n",
    "X_r = medium_high_nox[['crime', 'rooms']]\n",
    "X_r = sm.add_constant(X_r)\n",
    "Y_r = medium_high_nox['lprice'] \\\n",
    "    - model_ur.params['nox'] * medium_high_nox['nox'] \\\n",
    "    - model_ur.params['proptax'] * medium_high_nox['proptax']\n",
    "\n",
    "model_r = sm.OLS(Y_r, X_r).fit()\n",
    "\n",
    "SSR_ur = model_ur.ssr\n",
    "SSRr = model_r.ssr\n",
    "\n",
    "alpha = 0.1\n",
    "q = model_r.df_resid - model_ur.df_resid\n",
    "n_k_1 = model_ur.df_resid\n",
    "\n",
    "F = ((SSRr - SSR_ur) / q) / (SSR_ur / n_k_1)\n",
    "p_value = 1 - f.cdf(F, q, n_k_1)\n",
    "\n",
    "print(f'F-value: {F:.10f}')\n",
    "alpha = 0.1\n",
    "\n",
    "if p_value < alpha:\n",
    "    print(f'Reject the null hypothesis. p-value: {p_value:.30f}')\n",
    "else:\n",
    "    print(f'Fail to reject the null hypothesis. p-value: {p_value:.30f}')"
   ]
  },
  {
   "cell_type": "markdown",
   "metadata": {},
   "source": [
    "## PART 2 - HETEROSKEDASTICITY \n",
    "---\n",
    "#### **20. Explain the problem of heteroskedasticity with an example of the course.** "
   ]
  },
  {
   "cell_type": "markdown",
   "metadata": {},
   "source": [
    "Firstly, under homoskedasticity, the variances of the error term $u$ and the dependent variable $y$ are assumed to be constant, *i.e.*, \n",
    "\n",
    "$$\n",
    "Var(u|x) = Var(y|x) = \\sigma^{2}\n",
    "$$\n",
    "\n",
    "However, under heteroskedasticity conditions, what happens is that the variance of the error $Var(u|x)$ depends on the independent variable $x$. Consequently, the variance of $y$ $Var(y|x)$ will also depend on $x$. This violation of the homoskedasticity assumption can lead to issues, such as biased standard errors and inefficient parameter estimates in Ordinary Least Squares regression.\n",
    "\n",
    "In the example studied in course, the examination of the education-wage relationship underscores the challenge posed by heteroskedasticity. The quest for an unbiased estimation of education's impact on wages necessitates the assumption $E(u|educ) = 0$, accompanied by the assumption of homoskedasticity $Var(u∣educ) = \\sigma^{2}$. This implies constant wage variance $Var(wage∣educ) = \\sigma^{2}$ across education levels, allowing for varying mean wages while assuming consistent variance. However, the realism concern is acknowledged: higher education levels may introduce greater wage variability due to diverse job opportunities, contrasting with lower variability at lower education levels.\n",
    "\n",
    "Expanding on this, assume we build a model assuming homoskedasticity, implying constant error term variance across education levels. In the real world, individuals with higher education may experience more diverse work opportunities, leading to increased wage variability. Conversely, those with lower education levels may face fewer opportunities, resulting in reduced wage variability. Thus, insisting on homoskedasticity introduces bias into the model, as it overlooks the varying wage volatility associated with different education levels."
   ]
  },
  {
   "cell_type": "markdown",
   "metadata": {},
   "source": [
    "---\n",
    "#### **X 21. Suppose that $ E(u u')= \\sigma^2 \\Omega$. Show that the GLS estimator is the best linear unbiased estimator.**"
   ]
  },
  {
   "cell_type": "markdown",
   "metadata": {},
   "source": [
    "Fistly, considering the model $y = X \\beta + u$, where $E(u|X) = 0$, we derive the expression of the OLS estimator of $\\beta$, called $b$. Considering a set of $n$ i.i.d. observations, the collected data is represented by the following esquation:\n",
    "\n",
    "$$\n",
    "y = X b + u \\quad \\quad \\quad \\quad (12)\n",
    "$$\n",
    "\n",
    "By expliciting the matrix notation of the equation (12), we obtain the following equivalent equation:\n",
    "\n",
    "$$\n",
    "\\begin{bmatrix}\n",
    "y_{1}\\\\\n",
    "y_{2}\\\\\n",
    "\\vdots\\\\\n",
    "y_{N}\n",
    "\\end{bmatrix} = \\begin{bmatrix}\n",
    "x_{11} & x_{12} & \\cdots & x_{1K}\\\\ \n",
    "x_{21} & x_{21} & \\cdots & x_{2K}\\\\ \n",
    "\\vdots & \\vdots & \\ddots & \\vdots\\\\ \n",
    "x_{N1} & x_{N2} & \\cdots & x_{NK} \n",
    "\\end{bmatrix}\n",
    "\\begin{bmatrix}\n",
    "b_{1}\\\\\n",
    "b_{2}\\\\\n",
    "\\vdots\\\\\n",
    "b_{K}\n",
    "\\end{bmatrix}\n",
    "+\n",
    "\\begin{bmatrix}\n",
    "u_{1}\\\\\n",
    "u_{2}\\\\\n",
    "\\vdots\\\\\n",
    "u_{N}\n",
    "\\end{bmatrix}\n",
    "$$\n",
    "\n",
    "In order to derive an expression for $b$, we minimize sum of the squared residuals, i.e., we minimize\n",
    "\n",
    "$$\n",
    "u' u = \\begin{bmatrix}\n",
    "u_{1}\\ u_{2}\\ \\cdots\\ u_{N}\n",
    "\\end{bmatrix} \\begin{bmatrix}\n",
    "u_{1}\\\\\n",
    "u_{2}\\\\\n",
    "\\vdots\\\\\n",
    "u_{N}\n",
    "\\end{bmatrix}= \\sum_{i=1}^{N} u_{i}^{2}\n",
    "$$\n",
    "\n",
    "To that, it is first necessary to isolate the expression of $u$ and then, compute its transpose, so that the product $u' u$ can be minimized. From the equation (12), is given by:\n",
    "\n",
    "$$\n",
    "u = y - X b \\Rightarrow u' = (y - X b)' = y' - b' X'\n",
    "$$\n",
    "\n",
    "Thus, the product to be minimized is:\n",
    "\n",
    "$$\n",
    "u' u = (y' - b' X')(y - X b) = y'y - y'Xb - b'X'y + b'X'Xb \n",
    "$$\n",
    "\n",
    "By noting that $b'X'y = (b'X'y)' = y'Xb$, we arrive in the following expression:\n",
    "\n",
    "$$\n",
    "\\text{min } u'u = y'y - 2b'X'y + b'X'Xb \\quad \\quad (13)\n",
    "$$\n",
    "\n",
    "Finally, what is necessary to do is to take the partial derivative of the equation $(13)$ with respect to $b$ and solve it when it is equal to zero. To that, we use the two following results:\n",
    "\n",
    "$$\n",
    "\\left\\{\\begin{matrix}\n",
    "\\frac{\\partial}{\\partial b} (b'X'y) = X'y \\\\ \n",
    "\\frac{\\partial}{\\partial b} (b'X'Xb) = 2X'Xb \n",
    "\\end{matrix}\\right.\n",
    "$$\n",
    "\n",
    "With the above, the equation to be solved for $b$ will be:\n",
    "\n",
    "$$\n",
    "\\frac{\\partial}{\\partial b} (u'u) = 0 \\iff -2X'y + 2X'Xb = 0 \\iff X'Xb = X'y \\iff b = (X'X)^{-1}X'y \\quad (14)\n",
    "$$\n",
    "\n",
    "Now that the estimator has been computed as shown in the equation $(14)$, to shown that it is the best linear unbiased estimator (BLUE), we first check that it is linear. Indeed, the linearity is checked immediately by seeing the linear relatioship between $b$ and the dependent variable $y$. The second step is to show its unbiasedness. To that, we compute its expected value.\n",
    "\n",
    "$$\n",
    "E(b) = E\\left((X'X)^{-1}X'y\\right) = (X'X)^{-1}X'E(y) \\quad \\quad (15)\n",
    "$$\n",
    "\n",
    "Since the assumption $E(u|X) = 0$ holds, then $E(y) = X \\beta$ and the equation $(15)$ can be written as follows, proving that the estimator $b$ is unbiased.\n",
    "\n",
    "$$\n",
    "E(b) = (X'X)^{-1}(X'X) \\beta \\iff E(b) = \\beta\n",
    "$$\n",
    "\n",
    "Now, for the next steps, it is useful to rewrite the expression of $b$ as follows:\n",
    "\n",
    "$$\n",
    "\\left.\\begin{matrix}\n",
    "y = X \\beta + u \\\\ \n",
    "b = (X'X)^{-1}X'y\n",
    "\\end{matrix}\\right\\}\\Rightarrow \n",
    "b = \\beta + (X'X)^{-1}X'u \\quad \\quad (16)\n",
    "$$\n",
    "\n",
    "With the equation $(16)$, we compute the variance of the estimator considering the Heteroskedasticity supposition that $Var(u) = E(uu') = \\sigma^{2}\\Omega$.\n",
    "\n",
    "$$\n",
    "\\begin{align*}\n",
    "Var(b) &= Var\\left(\\beta + (X'X)^{-1}X'u\\right) \\\\\n",
    "       &= Var\\left((X'X)^{-1}X'u\\right) \\\\\n",
    "       &= (X'X)^{-1}X' Var(u) X(X'X)^{-1} \\\\\n",
    "       &= (X'X)^{-1}X' \\sigma^{2} \\Omega X(X'X)^{-1}\\\\\n",
    "\\end{align*}\n",
    "$$\n",
    "\n",
    "Therefore, the equation $(17)$ contains the result of the variance of the estimator, considering Heteroskedasticity.\n",
    "\n",
    "$$\n",
    "Var(b) = \\sigma^{2} (X'X)^{-1}X' \\Omega X(X'X)^{-1} \\quad \\quad (17)\n",
    "$$\n",
    "\n",
    "\n",
    "\n"
   ]
  },
  {
   "cell_type": "markdown",
   "metadata": {},
   "source": [
    "---\n",
    "#### **22. In the specification of question 9, test the hypothesis of no heteroskedasticity of linear form, i.e. in the regression of $u^2$ on constant, crime, nox, rooms, proptax, test $H_0: \\delta_{\\text{crime}}, \\delta_{\\text{nox}}, \\delta_{\\text{rooms}}, \\delta_{\\text{proptax}} = 0$, where the coefficients $\\delta_k$ (k = crime, nox, rooms, proptax) are associated with the corresponding explanatory variables.**"
   ]
  },
  {
   "cell_type": "code",
   "execution_count": 104,
   "metadata": {},
   "outputs": [
    {
     "name": "stdout",
     "output_type": "stream",
     "text": [
      "F-value: 12.7436641940\n",
      "p-value: 0.000024672073438924968513674685\n"
     ]
    }
   ],
   "source": [
    "X = df[['crime', 'nox', 'rooms', 'proptax']].copy()\n",
    "X = sm.add_constant(X)  # Add a constant column\n",
    "\n",
    "u = model_fit_q9.resid\n",
    "u2 = u**2\n",
    "\n",
    "model_fit_q22 = sm.OLS(u2, X).fit()\n",
    "\n",
    "f_value = model_fit_q22.fvalue\n",
    "print(f'F-value: {F:.10f}')\n",
    "\n",
    "q = len(model_fit_q22.params) - 1\n",
    "n_k_1 = model_fit_q22.df_resid\n",
    "\n",
    "p_value = 1 - f.cdf(f_value, q, n_k_1)\n",
    "print(f'p-value: {p_value:.30f}')"
   ]
  },
  {
   "cell_type": "markdown",
   "metadata": {},
   "source": [
    "---\n",
    "#### **23. In the specification of question 10, test the hypothesis of no heteroskedasticity of linear form**"
   ]
  },
  {
   "cell_type": "code",
   "execution_count": 106,
   "metadata": {},
   "outputs": [
    {
     "name": "stdout",
     "output_type": "stream",
     "text": [
      "F-value: 12.7436641940\n",
      "p-value: 0.000000000000083266726846886741\n"
     ]
    }
   ],
   "source": [
    "X = df[['crime', 'nox', 'rooms', 'proptax']].copy()\n",
    "X = sm.add_constant(X)  # Add a constant column\n",
    "\n",
    "u = model_fit_q10.resid\n",
    "u2 = u**2\n",
    "\n",
    "model_fit_q23 = sm.OLS(u2, X).fit()\n",
    "\n",
    "f_value = model_fit_q23.fvalue\n",
    "print(f'F-value: {F:.10f}')\n",
    "\n",
    "q = len(model_fit_q23.params) - 1\n",
    "n_k_1 = model_fit_q23.df_resid\n",
    "\n",
    "p_value = 1 - f.cdf(f_value, q, n_k_1)\n",
    "print(f'p-value: {p_value:.30f}')"
   ]
  },
  {
   "cell_type": "markdown",
   "metadata": {},
   "source": [
    "---\n",
    "#### **24.  In the specification of question 11, test the hypothesis of no heteroskedasticity of linear form**"
   ]
  },
  {
   "cell_type": "code",
   "execution_count": 107,
   "metadata": {},
   "outputs": [
    {
     "name": "stdout",
     "output_type": "stream",
     "text": [
      "F-value: 12.7436641940\n",
      "p-value: 0.000000000000084598994476436928\n"
     ]
    }
   ],
   "source": [
    "X = df[['crime', 'nox', 'rooms', 'proptax']].copy()\n",
    "X = sm.add_constant(X)  # Add a constant column\n",
    "\n",
    "u = model_fit_q11.resid\n",
    "u2 = u**2\n",
    "\n",
    "model_fit_q24 = sm.OLS(u2, X).fit()\n",
    "\n",
    "f_value = model_fit_q24.fvalue\n",
    "print(f'F-value: {F:.10f}')\n",
    "\n",
    "q = len(model_fit_q24.params) - 1\n",
    "n_k_1 = model_fit_q24.df_resid\n",
    "\n",
    "p_value = 1 - f.cdf(f_value, q, n_k_1)\n",
    "print(f'p-value: {p_value:.30f}')"
   ]
  },
  {
   "cell_type": "markdown",
   "metadata": {},
   "source": [
    "---\n",
    "#### **X 25. Comment on the differences between your results of questions 22,23, 24.**\n",
    "\n",
    "TO DO: complete"
   ]
  },
  {
   "cell_type": "markdown",
   "metadata": {},
   "source": [
    "---\n",
    "#### **26. Regardless of the results of the test of question 22, identify the most significant variable causing heteroskedasticity using the student statistics and run a WLS regression with the identified variable as weight.**"
   ]
  },
  {
   "cell_type": "code",
   "execution_count": 128,
   "metadata": {},
   "outputs": [
    {
     "name": "stdout",
     "output_type": "stream",
     "text": [
      "const: 0.000000000119827\n",
      "crime: 0.000036754965969\n",
      "nox: 0.000000000002731\n",
      "rooms: 0.000000000347168\n",
      "proptax: 0.000000000000003\n",
      "                            WLS Regression Results                            \n",
      "==============================================================================\n",
      "Dep. Variable:                  price   R-squared:                       0.900\n",
      "Model:                            WLS   Adj. R-squared:                  0.899\n",
      "Method:                 Least Squares   F-statistic:                     1126.\n",
      "Date:                Sun, 10 Dec 2023   Prob (F-statistic):          8.53e-249\n",
      "Time:                        19:01:34   Log-Likelihood:                -4785.6\n",
      "No. Observations:                 506   AIC:                             9581.\n",
      "Df Residuals:                     501   BIC:                             9602.\n",
      "Df Model:                           4                                         \n",
      "Covariance Type:            nonrobust                                         \n",
      "==============================================================================\n",
      "                 coef    std err          t      P>|t|      [0.025      0.975]\n",
      "------------------------------------------------------------------------------\n",
      "const      -2.085e+04   1302.945    -16.000      0.000   -2.34e+04   -1.83e+04\n",
      "crime       -136.1148     15.051     -9.044      0.000    -165.686    -106.544\n",
      "nox         -560.8102     80.535     -6.964      0.000    -719.038    -402.582\n",
      "rooms       8038.6014    171.921     46.757      0.000    7700.826    8376.377\n",
      "proptax      -90.6145      5.872    -15.430      0.000    -102.152     -79.077\n",
      "==============================================================================\n",
      "Omnibus:                       32.284   Durbin-Watson:                   0.785\n",
      "Prob(Omnibus):                  0.000   Jarque-Bera (JB):               25.183\n",
      "Skew:                           0.453   Prob(JB):                     3.40e-06\n",
      "Kurtosis:                       2.387   Cond. No.                         790.\n",
      "==============================================================================\n",
      "\n",
      "Notes:\n",
      "[1] Standard Errors assume that the covariance matrix of the errors is correctly specified.\n"
     ]
    }
   ],
   "source": [
    "X = df[['crime', 'nox', 'rooms', 'proptax']]  # independent variables\n",
    "X = sm.add_constant(X)  # adding a constant\n",
    "Y = df['price']  # dependent variable\n",
    "\n",
    "# Run OLS regression\n",
    "model_fit = sm.OLS(Y, X).fit()\n",
    "residuals = model_fit.resid\n",
    "residuals_squared = residuals**2\n",
    "\n",
    "# Initialize a DataFrame to store the results\n",
    "results_df = pd.DataFrame(columns=['variable', 'p-value'])\n",
    "\n",
    "# Regress each variable on the squared residuals and store the results\n",
    "for var in X.columns:\n",
    "    model = sm.OLS(residuals_squared, X[[var]])\n",
    "    results = model.fit()\n",
    "    results_df = results_df.add({'variable': var, 'p-value': results.pvalues[var]})\n",
    "    print(f'{var}: {results.pvalues[var]:.15f}')\n",
    "\n",
    "weights = 1. / np.abs(residuals)\n",
    "\n",
    "# Run WLS regression\n",
    "model_wls = sm.WLS(Y, X, weights=weights)\n",
    "results_wls = model_wls.fit()\n",
    "\n",
    "print(results_wls.summary())"
   ]
  },
  {
   "cell_type": "markdown",
   "metadata": {},
   "source": [
    "## PART 3 - TIME SERIES DATA\n",
    "\n",
    "This part uses the `threecenturies_v2.3` datasets. Import Real GDP at market prices, unemployment rate and consumer price inflation for the period 1900-2000 in Python from the A1 worksheet."
   ]
  },
  {
   "cell_type": "markdown",
   "metadata": {},
   "source": [
    "---\n",
    "#### **27. Define strict and weak stationarity.**"
   ]
  },
  {
   "cell_type": "markdown",
   "metadata": {},
   "source": [
    "* **Strict stationarity:** A time series process is considered strictly stationary if the joint probability distribution of its observations remains invariant under shifts in time. In other words, for any set of time points, the entire probability distribution of the data, including the mean, variance, and higher-order moments, remains constant. This implies that all statistical properties of the time series are unchanged over time, making strict stationarity a more stringent condition compared to covariance stationarity, for example.\n",
    "\n",
    "\n",
    "* **Weak stationarity:** A time series process is said to be weak stationary if it presents constants mean, variance and autocorrelation structutre over time, but not its entire probability distribution. "
   ]
  },
  {
   "cell_type": "markdown",
   "metadata": {},
   "source": [
    "---\n",
    "#### **28. Explain ergodicity and state the ergodic theorem. Illustrate with an example.**"
   ]
  },
  {
   "cell_type": "markdown",
   "metadata": {},
   "source": [
    "* **Ergodicity:** It is a mathematical concept characterizing a system's behavior over time, emphasizing the system's ability to forget its initial conditions. It asserts that, over a sufficiently long period, a point within the system will uniformly and randomly explore all parts of its space. This implies that the system's average behavior can be deduced from the trajectory of a representative point. In other words, a substantial collection of random samples from the system serves as an effective representation of the average statistical properties of the entire process.\n",
    "\n",
    "\n",
    "* **Ergodic theorem:** If a time series $\\{y_{t}\\}$ is strictly stationary and ergodic, and the expected value of the stochastic process exists, *i.e.*, $E(Y_{t}) < \\infty$ as $t \\rightarrow \\infty$, then its temporal average converges to the spatial average (the expectation) as the number of observations increases. In other words, the average temporal behavior of the system is equivalent to its average spacial behavior.\n",
    "\n",
    "\n",
    "* **Example:** Consider the case of fair coin tosses. The ergodicity implies that over a large number of tosses, the observed proportion of heads and tails will converge to the theoretical probabilities of the coin ($0.5$ for heads and $0.5$ for tails). This convergence illustrates that the long-term behavior of the coin toss process aligns with the underlying probabilities of the fair coin, despite the inherent randomness of each individual toss."
   ]
  },
  {
   "cell_type": "markdown",
   "metadata": {},
   "source": [
    "---\n",
    "#### **29. Why do we need both stationarity and ergodicity?**"
   ]
  },
  {
   "cell_type": "markdown",
   "metadata": {},
   "source": [
    "These conditions are necessary to utilize the ergodic theorem, enabling us to estimate the expectation of the process based on the average of a suitably large sample."
   ]
  },
  {
   "cell_type": "markdown",
   "metadata": {},
   "source": [
    "---\n",
    "#### **30. Explain “spurious regression”.**"
   ]
  },
  {
   "cell_type": "markdown",
   "metadata": {},
   "source": [
    "Spurious regression occurs when two time series variables seem to be correlated or show a substantial statistical relationship, despite being independent and unrelated. This occurrence is closely linked to the existence of stochastic trends in the time series data."
   ]
  },
  {
   "cell_type": "markdown",
   "metadata": {},
   "source": [
    "---\n",
    "#### **31. Define a moving average and explain the trade-off involved in the choice of the size of the window and of whether to center or not the moving average.**"
   ]
  },
  {
   "cell_type": "markdown",
   "metadata": {},
   "source": [
    "A moving average is a computation applied to time series to smooth out short-term fluctuations and highlight longer-term trends or cycles in the data. To compute it, we consider the average of a set of values within a defined window as it moves through the time series.\n",
    "\n",
    "\n",
    "The trade-off is exlpained by the fact that a larger window provides smoother results but introduces lag, while a smaller window offers a quick response but may capture more noise. Centered moving averages prioritize accuracy in trend representation but come with added lag, while non-centered alternatives prioritize timeliness but may sacrifice some accuracy."
   ]
  },
  {
   "cell_type": "markdown",
   "metadata": {},
   "source": [
    "---\n",
    "#### **X 32. Make all time series stationary by computing the difference between the original variable and a moving average of order 10.**"
   ]
  },
  {
   "cell_type": "markdown",
   "metadata": {},
   "source": []
  },
  {
   "cell_type": "markdown",
   "metadata": {},
   "source": [
    "---\n",
    "#### **X 33. Compute the difference between the resulting time series of question 32 and a moving average of order 5. Give the exact formula for the weights after the two transformations.**"
   ]
  },
  {
   "cell_type": "markdown",
   "metadata": {},
   "source": []
  },
  {
   "cell_type": "markdown",
   "metadata": {},
   "source": [
    "---\n",
    "#### **X 34. Using the original dataset, test the unit root hypothesis for all variables.**"
   ]
  },
  {
   "cell_type": "markdown",
   "metadata": {},
   "source": []
  },
  {
   "cell_type": "markdown",
   "metadata": {},
   "source": [
    "---\n",
    "#### **X 35. Transform all variables so that they are stationary using either your answers to questions 32-33 or to question 34.**"
   ]
  },
  {
   "cell_type": "markdown",
   "metadata": {},
   "source": []
  },
  {
   "cell_type": "markdown",
   "metadata": {},
   "source": [
    "---\n",
    "#### **36. Explain the difference between ACF and PACF.**"
   ]
  },
  {
   "cell_type": "markdown",
   "metadata": {},
   "source": [
    "ACF measures the correlation between a time series and its own lagged values at various time lags, while PACF measures the correlation between a time series and its own lagged values while controlling for the effect of other lags. \n",
    "\n",
    "While ACF provides an overall view of the correlation structure, including both direct and indirect influences of all lags, PACF focuses on the direct correlation between an observation and its lag, excluding the influence of intermediate lags."
   ]
  },
  {
   "cell_type": "markdown",
   "metadata": {},
   "source": [
    "---\n",
    "#### **X 37. Plot and comment on the ACF and PACF of all variables.**"
   ]
  },
  {
   "cell_type": "markdown",
   "metadata": {},
   "source": []
  },
  {
   "cell_type": "markdown",
   "metadata": {},
   "source": [
    "---\n",
    "#### **38. Explain the principle of parsimony and its relationship with Ockham’s razor using the theory of information criterion.**"
   ]
  },
  {
   "cell_type": "markdown",
   "metadata": {},
   "source": [
    "The principle of parsimony, related to Ockham's razor, emphasizes favoring simpler explanations or models. In the context of information criteria like Akaike Information Criterion (AIC) and Bayesian Information Criterion (BIC), which balance goodness of fit and model complexity, parsimony is reflected by penalizing overly complex models. This encourages selecting models that effectively explain data while remaining as simple as necessary, aligning with the philosophy of Ockham's razor to prefer simplicity in explanations."
   ]
  },
  {
   "cell_type": "markdown",
   "metadata": {},
   "source": [
    "---\n",
    "#### **39. Explain the problem of auto-correlation of the errors.**"
   ]
  },
  {
   "cell_type": "markdown",
   "metadata": {},
   "source": [
    "Autocorrelation of errors occurs when the error terms within a regression model present correlation among themselves. This implies that the errors in a given period are influenced by the errors in preceding periods, violating the assumption of error independence. The autocorrelation brings challenges for ordinary least squares (OLS) estimation: while the estimated regression coefficients remain unbiased, they lose the characteristic of minimum variance. In addition to that, the Mean Squared Error (MSE) may significantly underestimate the true error variance, and the standard error of regression coefficients may substantially underestimate the actual standard deviation. In these cases, the conventional statistical intervals and inference procedures cannot be applied."
   ]
  },
  {
   "cell_type": "markdown",
   "metadata": {},
   "source": [
    "---\n",
    "#### **X 40. Using only stationary variables, run a regression of GDP on constant, unemployment and inflation and test the hypothesis of no-autocorrelation of errors.**"
   ]
  },
  {
   "cell_type": "markdown",
   "metadata": {},
   "source": []
  },
  {
   "cell_type": "markdown",
   "metadata": {},
   "source": [
    "---\n",
    "#### **X 41. Regardless of your answer to question 40, correct auto-correlation with GLS. Comment on the difference with question 40.**"
   ]
  },
  {
   "cell_type": "markdown",
   "metadata": {},
   "source": []
  },
  {
   "cell_type": "markdown",
   "metadata": {},
   "source": [
    "---\n",
    "#### **X 42. For all variables, construct their lag 1 and lag 2 variables.**"
   ]
  },
  {
   "cell_type": "markdown",
   "metadata": {},
   "source": []
  },
  {
   "cell_type": "markdown",
   "metadata": {},
   "source": [
    "---\n",
    "#### **X 43. Run a regression of GDP on constant, lag 1 unemployment, lag 2 unemployment, lag 1 inflation, lag 2 inflation. What is the number of observations and why?**"
   ]
  },
  {
   "cell_type": "markdown",
   "metadata": {},
   "source": []
  },
  {
   "cell_type": "markdown",
   "metadata": {},
   "source": [
    "---\n",
    "#### **X 44. State and test the no-Granger causality hypothesis of unemployment on GDP at the 1% level**"
   ]
  },
  {
   "cell_type": "markdown",
   "metadata": {},
   "source": []
  },
  {
   "cell_type": "markdown",
   "metadata": {},
   "source": [
    "---\n",
    "#### **X 45. Divide the sample in two groups: 1900-1960 and 1961-2000. Test the stability of coefficients between the two periods.**"
   ]
  },
  {
   "cell_type": "markdown",
   "metadata": {},
   "source": []
  },
  {
   "cell_type": "markdown",
   "metadata": {},
   "source": [
    "---\n",
    "#### **X 46. Test the structural breakpoint using a trim ratio of 30% at the 1% level**"
   ]
  },
  {
   "cell_type": "code",
   "execution_count": null,
   "metadata": {},
   "outputs": [],
   "source": []
  }
 ],
 "metadata": {
  "kernelspec": {
   "display_name": "Python 3 (ipykernel)",
   "language": "python",
   "name": "python3"
  },
  "language_info": {
   "codemirror_mode": {
    "name": "ipython",
    "version": 3
   },
   "file_extension": ".py",
   "mimetype": "text/x-python",
   "name": "python",
   "nbconvert_exporter": "python",
   "pygments_lexer": "ipython3",
   "version": "3.11.7"
  }
 },
 "nbformat": 4,
 "nbformat_minor": 2
}
