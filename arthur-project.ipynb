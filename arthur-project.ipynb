{
 "cells": [
  {
   "cell_type": "code",
   "execution_count": 2,
   "metadata": {},
   "outputs": [],
   "source": [
    "import numpy as np\n",
    "import pandas as pd\n",
    "import matplotlib.pyplot as plt\n",
    "import statsmodels.api as sm\n",
    "from scipy.stats import t\n"
   ]
  },
  {
   "cell_type": "markdown",
   "metadata": {},
   "source": [
    "MARTINS BRAGA Arthur\n",
    "Yuri"
   ]
  },
  {
   "cell_type": "markdown",
   "metadata": {},
   "source": [
    "#### PART 1 - CROSS-SECTION DATA"
   ]
  },
  {
   "cell_type": "code",
   "execution_count": 3,
   "metadata": {},
   "outputs": [
    {
     "data": {
      "text/html": [
       "<div>\n",
       "<style scoped>\n",
       "    .dataframe tbody tr th:only-of-type {\n",
       "        vertical-align: middle;\n",
       "    }\n",
       "\n",
       "    .dataframe tbody tr th {\n",
       "        vertical-align: top;\n",
       "    }\n",
       "\n",
       "    .dataframe thead th {\n",
       "        text-align: right;\n",
       "    }\n",
       "</style>\n",
       "<table border=\"1\" class=\"dataframe\">\n",
       "  <thead>\n",
       "    <tr style=\"text-align: right;\">\n",
       "      <th></th>\n",
       "      <th>price</th>\n",
       "      <th>crime</th>\n",
       "      <th>nox</th>\n",
       "      <th>rooms</th>\n",
       "      <th>dist</th>\n",
       "      <th>radial</th>\n",
       "      <th>proptax</th>\n",
       "      <th>stratio</th>\n",
       "      <th>lowstat</th>\n",
       "      <th>lprice</th>\n",
       "      <th>lnox</th>\n",
       "      <th>lproptax</th>\n",
       "    </tr>\n",
       "  </thead>\n",
       "  <tbody>\n",
       "    <tr>\n",
       "      <th>0</th>\n",
       "      <td>24000</td>\n",
       "      <td>0.006</td>\n",
       "      <td>5.38</td>\n",
       "      <td>6.57</td>\n",
       "      <td>4.09</td>\n",
       "      <td>1</td>\n",
       "      <td>29.6</td>\n",
       "      <td>15.3</td>\n",
       "      <td>4.98</td>\n",
       "      <td>10.085810</td>\n",
       "      <td>1.682688</td>\n",
       "      <td>5.690360</td>\n",
       "    </tr>\n",
       "    <tr>\n",
       "      <th>1</th>\n",
       "      <td>21599</td>\n",
       "      <td>0.027</td>\n",
       "      <td>4.69</td>\n",
       "      <td>6.42</td>\n",
       "      <td>4.97</td>\n",
       "      <td>2</td>\n",
       "      <td>24.2</td>\n",
       "      <td>17.8</td>\n",
       "      <td>9.14</td>\n",
       "      <td>9.980402</td>\n",
       "      <td>1.545433</td>\n",
       "      <td>5.488938</td>\n",
       "    </tr>\n",
       "    <tr>\n",
       "      <th>2</th>\n",
       "      <td>34700</td>\n",
       "      <td>0.027</td>\n",
       "      <td>4.69</td>\n",
       "      <td>7.18</td>\n",
       "      <td>4.97</td>\n",
       "      <td>2</td>\n",
       "      <td>24.2</td>\n",
       "      <td>17.8</td>\n",
       "      <td>4.03</td>\n",
       "      <td>10.454500</td>\n",
       "      <td>1.545433</td>\n",
       "      <td>5.488938</td>\n",
       "    </tr>\n",
       "    <tr>\n",
       "      <th>3</th>\n",
       "      <td>33400</td>\n",
       "      <td>0.032</td>\n",
       "      <td>4.58</td>\n",
       "      <td>7.00</td>\n",
       "      <td>6.06</td>\n",
       "      <td>3</td>\n",
       "      <td>22.2</td>\n",
       "      <td>18.7</td>\n",
       "      <td>2.94</td>\n",
       "      <td>10.416310</td>\n",
       "      <td>1.521699</td>\n",
       "      <td>5.402678</td>\n",
       "    </tr>\n",
       "    <tr>\n",
       "      <th>4</th>\n",
       "      <td>36199</td>\n",
       "      <td>0.069</td>\n",
       "      <td>4.58</td>\n",
       "      <td>7.15</td>\n",
       "      <td>6.06</td>\n",
       "      <td>3</td>\n",
       "      <td>22.2</td>\n",
       "      <td>18.7</td>\n",
       "      <td>5.33</td>\n",
       "      <td>10.496790</td>\n",
       "      <td>1.521699</td>\n",
       "      <td>5.402678</td>\n",
       "    </tr>\n",
       "  </tbody>\n",
       "</table>\n",
       "</div>"
      ],
      "text/plain": [
       "   price  crime   nox  rooms  dist  radial  proptax  stratio  lowstat  \\\n",
       "0  24000  0.006  5.38   6.57  4.09       1     29.6     15.3     4.98   \n",
       "1  21599  0.027  4.69   6.42  4.97       2     24.2     17.8     9.14   \n",
       "2  34700  0.027  4.69   7.18  4.97       2     24.2     17.8     4.03   \n",
       "3  33400  0.032  4.58   7.00  6.06       3     22.2     18.7     2.94   \n",
       "4  36199  0.069  4.58   7.15  6.06       3     22.2     18.7     5.33   \n",
       "\n",
       "      lprice      lnox  lproptax  \n",
       "0  10.085810  1.682688  5.690360  \n",
       "1   9.980402  1.545433  5.488938  \n",
       "2  10.454500  1.545433  5.488938  \n",
       "3  10.416310  1.521699  5.402678  \n",
       "4  10.496790  1.521699  5.402678  "
      ]
     },
     "execution_count": 3,
     "metadata": {},
     "output_type": "execute_result"
    }
   ],
   "source": [
    "df = pd.read_csv('textfiles/HPRICE2.raw', delim_whitespace=True, header=None, names=[\n",
    "                 'price', 'crime', 'nox', 'rooms', 'dist', 'radial', 'proptax', 'stratio', 'lowstat', 'lprice', 'lnox', 'lproptax'])\n",
    "df.head()"
   ]
  },
  {
   "cell_type": "markdown",
   "metadata": {},
   "source": [
    "1. State the fundamental hypothesis under which the Ordinary Least Squares (OLS) estimators\n",
    "   are unbiased."
   ]
  },
  {
   "cell_type": "markdown",
   "metadata": {},
   "source": [
    "The unobserved variable has a zero mean\n",
    "\n",
    "Conditional mean = unconditional mean\n",
    "\n",
    "X and u are uncorrelated\n",
    "\n",
    "$$\n",
    "E(u|X) = E(u) = 0\n",
    "$$"
   ]
  },
  {
   "cell_type": "markdown",
   "metadata": {},
   "source": [
    "2. Show that under this assumption the OLS estimators are indeed unbiased."
   ]
  },
  {
   "cell_type": "code",
   "execution_count": null,
   "metadata": {},
   "outputs": [],
   "source": []
  },
  {
   "cell_type": "markdown",
   "metadata": {},
   "source": [
    "3. Explain the sample selection bias with an example from the course."
   ]
  },
  {
   "cell_type": "code",
   "execution_count": null,
   "metadata": {},
   "outputs": [],
   "source": []
  },
  {
   "cell_type": "markdown",
   "metadata": {},
   "source": [
    "4. Explain the omitted variable bias with an example from the course\n"
   ]
  },
  {
   "cell_type": "code",
   "execution_count": null,
   "metadata": {},
   "outputs": [],
   "source": []
  },
  {
   "cell_type": "markdown",
   "metadata": {},
   "source": [
    "5. Explain the problem of multicollinearity. Is it a problem in this dataset?\n"
   ]
  },
  {
   "cell_type": "code",
   "execution_count": null,
   "metadata": {},
   "outputs": [],
   "source": []
  },
  {
   "cell_type": "markdown",
   "metadata": {},
   "source": [
    "**6. Create three categories of nox levels (low, medium, high), corresponding to the following percentiles: 0-25%, 26%-74%, 75%-100%**"
   ]
  },
  {
   "cell_type": "code",
   "execution_count": 4,
   "metadata": {},
   "outputs": [
    {
     "data": {
      "text/html": [
       "<div>\n",
       "<style scoped>\n",
       "    .dataframe tbody tr th:only-of-type {\n",
       "        vertical-align: middle;\n",
       "    }\n",
       "\n",
       "    .dataframe tbody tr th {\n",
       "        vertical-align: top;\n",
       "    }\n",
       "\n",
       "    .dataframe thead th {\n",
       "        text-align: right;\n",
       "    }\n",
       "</style>\n",
       "<table border=\"1\" class=\"dataframe\">\n",
       "  <thead>\n",
       "    <tr style=\"text-align: right;\">\n",
       "      <th></th>\n",
       "      <th>price</th>\n",
       "      <th>crime</th>\n",
       "      <th>nox</th>\n",
       "      <th>rooms</th>\n",
       "      <th>dist</th>\n",
       "      <th>radial</th>\n",
       "      <th>proptax</th>\n",
       "      <th>stratio</th>\n",
       "      <th>lowstat</th>\n",
       "      <th>lprice</th>\n",
       "      <th>lnox</th>\n",
       "      <th>lproptax</th>\n",
       "      <th>nox_level</th>\n",
       "    </tr>\n",
       "  </thead>\n",
       "  <tbody>\n",
       "    <tr>\n",
       "      <th>0</th>\n",
       "      <td>24000</td>\n",
       "      <td>0.006</td>\n",
       "      <td>5.38</td>\n",
       "      <td>6.57</td>\n",
       "      <td>4.09</td>\n",
       "      <td>1</td>\n",
       "      <td>29.6</td>\n",
       "      <td>15.3</td>\n",
       "      <td>4.98</td>\n",
       "      <td>10.085810</td>\n",
       "      <td>1.682688</td>\n",
       "      <td>5.690360</td>\n",
       "      <td>medium</td>\n",
       "    </tr>\n",
       "    <tr>\n",
       "      <th>1</th>\n",
       "      <td>21599</td>\n",
       "      <td>0.027</td>\n",
       "      <td>4.69</td>\n",
       "      <td>6.42</td>\n",
       "      <td>4.97</td>\n",
       "      <td>2</td>\n",
       "      <td>24.2</td>\n",
       "      <td>17.8</td>\n",
       "      <td>9.14</td>\n",
       "      <td>9.980402</td>\n",
       "      <td>1.545433</td>\n",
       "      <td>5.488938</td>\n",
       "      <td>medium</td>\n",
       "    </tr>\n",
       "    <tr>\n",
       "      <th>2</th>\n",
       "      <td>34700</td>\n",
       "      <td>0.027</td>\n",
       "      <td>4.69</td>\n",
       "      <td>7.18</td>\n",
       "      <td>4.97</td>\n",
       "      <td>2</td>\n",
       "      <td>24.2</td>\n",
       "      <td>17.8</td>\n",
       "      <td>4.03</td>\n",
       "      <td>10.454500</td>\n",
       "      <td>1.545433</td>\n",
       "      <td>5.488938</td>\n",
       "      <td>medium</td>\n",
       "    </tr>\n",
       "    <tr>\n",
       "      <th>3</th>\n",
       "      <td>33400</td>\n",
       "      <td>0.032</td>\n",
       "      <td>4.58</td>\n",
       "      <td>7.00</td>\n",
       "      <td>6.06</td>\n",
       "      <td>3</td>\n",
       "      <td>22.2</td>\n",
       "      <td>18.7</td>\n",
       "      <td>2.94</td>\n",
       "      <td>10.416310</td>\n",
       "      <td>1.521699</td>\n",
       "      <td>5.402678</td>\n",
       "      <td>medium</td>\n",
       "    </tr>\n",
       "    <tr>\n",
       "      <th>4</th>\n",
       "      <td>36199</td>\n",
       "      <td>0.069</td>\n",
       "      <td>4.58</td>\n",
       "      <td>7.15</td>\n",
       "      <td>6.06</td>\n",
       "      <td>3</td>\n",
       "      <td>22.2</td>\n",
       "      <td>18.7</td>\n",
       "      <td>5.33</td>\n",
       "      <td>10.496790</td>\n",
       "      <td>1.521699</td>\n",
       "      <td>5.402678</td>\n",
       "      <td>medium</td>\n",
       "    </tr>\n",
       "  </tbody>\n",
       "</table>\n",
       "</div>"
      ],
      "text/plain": [
       "   price  crime   nox  rooms  dist  radial  proptax  stratio  lowstat  \\\n",
       "0  24000  0.006  5.38   6.57  4.09       1     29.6     15.3     4.98   \n",
       "1  21599  0.027  4.69   6.42  4.97       2     24.2     17.8     9.14   \n",
       "2  34700  0.027  4.69   7.18  4.97       2     24.2     17.8     4.03   \n",
       "3  33400  0.032  4.58   7.00  6.06       3     22.2     18.7     2.94   \n",
       "4  36199  0.069  4.58   7.15  6.06       3     22.2     18.7     5.33   \n",
       "\n",
       "      lprice      lnox  lproptax nox_level  \n",
       "0  10.085810  1.682688  5.690360    medium  \n",
       "1   9.980402  1.545433  5.488938    medium  \n",
       "2  10.454500  1.545433  5.488938    medium  \n",
       "3  10.416310  1.521699  5.402678    medium  \n",
       "4  10.496790  1.521699  5.402678    medium  "
      ]
     },
     "execution_count": 4,
     "metadata": {},
     "output_type": "execute_result"
    }
   ],
   "source": [
    "low, high = df['nox'].quantile([0.25, 0.75])\n",
    "df['nox_level'] = pd.cut(df['nox'], bins=[df['nox'].min(), low, high, df['nox'].max()], labels=['low', 'medium', 'high'], include_lowest=True)\n",
    "df.head()"
   ]
  },
  {
   "cell_type": "markdown",
   "metadata": {},
   "source": [
    "**7. Compute for each category of nox level the average median price and comment on your results**"
   ]
  },
  {
   "cell_type": "code",
   "execution_count": 5,
   "metadata": {},
   "outputs": [
    {
     "name": "stdout",
     "output_type": "stream",
     "text": [
      "nox_level\n",
      "low       26977.093750\n",
      "medium    22741.555118\n",
      "high      17430.653226\n",
      "Name: price, dtype: float64\n"
     ]
    }
   ],
   "source": [
    "grouped = df.groupby('nox_level')\n",
    "average_prices = grouped['price'].mean()\n",
    "print(average_prices)"
   ]
  },
  {
   "cell_type": "markdown",
   "metadata": {},
   "source": [
    "| NOx Level | Value |\n",
    "| --------- | ----- |\n",
    "| Low       | 26977.09 |\n",
    "| Medium    | 22741.567 |\n",
    "| High      | 17430.65 |\n",
    "\n",
    "These values suggest a descending trend in average median prices as the NOx level increases. This could indicate a negative correlation between NOx levels and housing prices."
   ]
  },
  {
   "cell_type": "markdown",
   "metadata": {
    "tags": []
   },
   "source": [
    "**8. Produce a scatter plot with the variable price on the y-axis and the variable nox on the x-axis. Is this a ceteris paribus effect?**"
   ]
  },
  {
   "cell_type": "code",
   "execution_count": 6,
   "metadata": {},
   "outputs": [
    {
     "data": {
      "image/png": "[encoded data removed]",
      "text/plain": [
       "<Figure size 640x480 with 1 Axes>"
      ]
     },
     "metadata": {},
     "output_type": "display_data"
    }
   ],
   "source": [
    "plt.scatter(df['nox'], df['price'])\n",
    "plt.xlabel('NOX')\n",
    "plt.ylabel('Price')\n",
    "plt.title('Scatter plot of Price vs NOX')\n",
    "plt.show()"
   ]
  },
  {
   "cell_type": "markdown",
   "metadata": {},
   "source": [
    "When analyzing the graph, it is possible to observe that the average prices increase as NOx levels rise. However, it cannot be asserted that this is a ceteris paribus effect because we do not know if the other variables are held constant, and a scatter plot alone is not sufficient. Moreover, it is possible to see that there are different prices for the same NOx level, indicating the likely presence of other variables influencing the price, which are therefore not constant."
   ]
  },
  {
   "cell_type": "markdown",
   "metadata": {},
   "source": [
    "**9. Run a regression of price on a constant, crime, nox, rooms, proptax. Comment on the histogram of the residuals. Interpret all coefficients.**"
   ]
  },
  {
   "cell_type": "code",
   "execution_count": 7,
   "metadata": {},
   "outputs": [
    {
     "name": "stdout",
     "output_type": "stream",
     "text": [
      "                            OLS Regression Results                            \n",
      "==============================================================================\n",
      "Dep. Variable:                  price   R-squared:                       0.575\n",
      "Model:                            OLS   Adj. R-squared:                  0.572\n",
      "Method:                 Least Squares   F-statistic:                     169.6\n",
      "Date:                Thu, 30 Nov 2023   Prob (F-statistic):           1.06e-91\n",
      "Time:                        17:44:14   Log-Likelihood:                -5119.6\n",
      "No. Observations:                 506   AIC:                         1.025e+04\n",
      "Df Residuals:                     501   BIC:                         1.027e+04\n",
      "Df Model:                           4                                         \n",
      "Covariance Type:            nonrobust                                         \n",
      "==============================================================================\n",
      "                 coef    std err          t      P>|t|      [0.025      0.975]\n",
      "------------------------------------------------------------------------------\n",
      "const      -1.868e+04   3215.205     -5.811      0.000    -2.5e+04   -1.24e+04\n",
      "crime       -136.5438     38.529     -3.544      0.000    -212.241     -60.846\n",
      "nox         -660.4672    314.634     -2.099      0.036   -1278.632     -42.303\n",
      "rooms       7797.9286    404.345     19.285      0.000    7003.507    8592.350\n",
      "proptax      -89.4144     23.966     -3.731      0.000    -136.500     -42.329\n",
      "==============================================================================\n",
      "Omnibus:                      264.796   Durbin-Watson:                   0.752\n",
      "Prob(Omnibus):                  0.000   Jarque-Bera (JB):             2348.397\n",
      "Skew:                           2.111   Prob(JB):                         0.00\n",
      "Kurtosis:                      12.673   Cond. No.                         546.\n",
      "==============================================================================\n",
      "\n",
      "Notes:\n",
      "[1] Standard Errors assume that the covariance matrix of the errors is correctly specified.\n"
     ]
    },
    {
     "data": {
      "image/png": "[encoded data removed]",
      "text/plain": [
       "<Figure size 640x480 with 1 Axes>"
      ]
     },
     "metadata": {},
     "output_type": "display_data"
    }
   ],
   "source": [
    "X = df[['crime', 'nox', 'rooms', 'proptax']]\n",
    "y = df['price']\n",
    "\n",
    "X = sm.add_constant(X)\n",
    "\n",
    "model = sm.OLS(y, X)\n",
    "results = model.fit()\n",
    "print(results.summary())\n",
    "\n",
    "plt.hist(results.resid, bins='auto')\n",
    "plt.title('Histogram of residuals')\n",
    "plt.show()"
   ]
  },
  {
   "cell_type": "markdown",
   "metadata": {},
   "source": [
    "The OLS regression results show that all the variables (crime, nox, rooms, proptax) are statistically significant to the price variation as their p-values are less than 0.05.\n",
    "\n",
    "The coefficients indicate that the price is negatively correlated with crime, nox, and proptax, and positively correlated with rooms.\n",
    "\n",
    "The histogram of residuals follows a normal distribution. It suggests that the linear regression model might fit for this data."
   ]
  },
  {
   "cell_type": "markdown",
   "metadata": {},
   "source": [
    "**10. Run a regression of lprice on a constant, crime, nox, rooms, proptax. Comment on the histogram of the residuals. Interpret all coefficients.**"
   ]
  },
  {
   "cell_type": "code",
   "execution_count": 8,
   "metadata": {},
   "outputs": [
    {
     "name": "stdout",
     "output_type": "stream",
     "text": [
      "                            OLS Regression Results                            \n",
      "==============================================================================\n",
      "Dep. Variable:                 lprice   R-squared:                       0.611\n",
      "Model:                            OLS   Adj. R-squared:                  0.608\n",
      "Method:                 Least Squares   F-statistic:                     196.9\n",
      "Date:                Thu, 30 Nov 2023   Prob (F-statistic):          2.50e-101\n",
      "Time:                        17:44:15   Log-Likelihood:                -26.367\n",
      "No. Observations:                 506   AIC:                             62.73\n",
      "Df Residuals:                     501   BIC:                             83.87\n",
      "Df Model:                           4                                         \n",
      "Covariance Type:            nonrobust                                         \n",
      "==============================================================================\n",
      "                 coef    std err          t      P>|t|      [0.025      0.975]\n",
      "------------------------------------------------------------------------------\n",
      "const          8.6550      0.137     63.320      0.000       8.386       8.924\n",
      "crime         -0.0125      0.002     -7.641      0.000      -0.016      -0.009\n",
      "nox           -0.0476      0.013     -3.557      0.000      -0.074      -0.021\n",
      "rooms          0.2816      0.017     16.379      0.000       0.248       0.315\n",
      "proptax       -0.0043      0.001     -4.184      0.000      -0.006      -0.002\n",
      "==============================================================================\n",
      "Omnibus:                      118.409   Durbin-Watson:                   0.764\n",
      "Prob(Omnibus):                  0.000   Jarque-Bera (JB):              730.140\n",
      "Skew:                           0.859   Prob(JB):                    2.83e-159\n",
      "Kurtosis:                       8.629   Cond. No.                         546.\n",
      "==============================================================================\n",
      "\n",
      "Notes:\n",
      "[1] Standard Errors assume that the covariance matrix of the errors is correctly specified.\n"
     ]
    },
    {
     "data": {
      "image/png": "[encoded data removed]",
      "text/plain": [
       "<Figure size 640x480 with 1 Axes>"
      ]
     },
     "metadata": {},
     "output_type": "display_data"
    }
   ],
   "source": [
    "X = df[['crime', 'nox', 'rooms', 'proptax']]\n",
    "y = df['lprice']\n",
    "\n",
    "X = sm.add_constant(X)\n",
    "\n",
    "model = sm.OLS(y, X)\n",
    "results10 = model.fit()\n",
    "print(results10.summary())\n",
    "\n",
    "plt.hist(results10.resid, bins='auto')\n",
    "plt.title('Histogram of residuals')\n",
    "plt.show()"
   ]
  },
  {
   "cell_type": "markdown",
   "metadata": {},
   "source": [
    "The OLS regression results show that all the variables (crime, nox, rooms, proptax) are statistically significant to lprice variation as their p-values are less than 0.05.\n",
    "\n",
    "The coefficients indicate that the price is negatively correlated with crime, nox, and proptax, and positively correlated with rooms.\n",
    "\n",
    "The histogram of residuals follows a normal distribution. It suggests that the linear regression model might fit for this data.\n",
    "\n",
    "Comparing with the results of the previous model, the coefficients are smaller in this model. And the R-squared is higher in this model, which means that this model fits better than the previous one."
   ]
  },
  {
   "cell_type": "markdown",
   "metadata": {},
   "source": [
    "**11. Run a regression of lprice on a constant, crime, lnox, rooms, lproptax. Comment on the histogram of the residuals. Interpret all coefficients.**"
   ]
  },
  {
   "cell_type": "code",
   "execution_count": 10,
   "metadata": {},
   "outputs": [
    {
     "name": "stdout",
     "output_type": "stream",
     "text": [
      "                            OLS Regression Results                            \n",
      "==============================================================================\n",
      "Dep. Variable:                 lprice   R-squared:                       0.612\n",
      "Model:                            OLS   Adj. R-squared:                  0.609\n",
      "Method:                 Least Squares   F-statistic:                     197.4\n",
      "Date:                Thu, 30 Nov 2023   Prob (F-statistic):          1.77e-101\n",
      "Time:                        18:33:25   Log-Likelihood:                -26.021\n",
      "No. Observations:                 506   AIC:                             62.04\n",
      "Df Residuals:                     501   BIC:                             83.18\n",
      "Df Model:                           4                                         \n",
      "Covariance Type:            nonrobust                                         \n",
      "==============================================================================\n",
      "                 coef    std err          t      P>|t|      [0.025      0.975]\n",
      "------------------------------------------------------------------------------\n",
      "const          9.7505      0.253     38.476      0.000       9.253      10.248\n",
      "crime         -0.0128      0.002     -8.002      0.000      -0.016      -0.010\n",
      "lnox          -0.2769      0.077     -3.591      0.000      -0.428      -0.125\n",
      "rooms          0.2802      0.017     16.282      0.000       0.246       0.314\n",
      "lproptax      -0.1779      0.042     -4.215      0.000      -0.261      -0.095\n",
      "==============================================================================\n",
      "Omnibus:                      116.110   Durbin-Watson:                   0.768\n",
      "Prob(Omnibus):                  0.000   Jarque-Bera (JB):              716.737\n",
      "Skew:                           0.838   Prob(JB):                    2.30e-156\n",
      "Kurtosis:                       8.585   Cond. No.                         241.\n",
      "==============================================================================\n",
      "\n",
      "Notes:\n",
      "[1] Standard Errors assume that the covariance matrix of the errors is correctly specified.\n"
     ]
    },
    {
     "data": {
      "image/png": "[encoded data removed]",
      "text/plain": [
       "<Figure size 640x480 with 1 Axes>"
      ]
     },
     "metadata": {},
     "output_type": "display_data"
    }
   ],
   "source": [
    "X = df[['crime', 'lnox', 'rooms', 'lproptax']]\n",
    "y = df['lprice']\n",
    "\n",
    "X = sm.add_constant(X)\n",
    "\n",
    "model = sm.OLS(y, X)\n",
    "results11 = model.fit()\n",
    "print(results11.summary())\n",
    "\n",
    "plt.hist(results11.resid, bins='auto')\n",
    "plt.title('Histogram of residuals')\n",
    "plt.show()"
   ]
  },
  {
   "cell_type": "markdown",
   "metadata": {},
   "source": [
    "The OLS regression results show that all the variables (crime, lnox, rooms, lproptax) are statistically significant to lprice variation as their p-values are less than 0.05.\n",
    "\n",
    "The coefficients indicate that the price is negatively correlated with crime, lnox, and lproptax, and positively correlated with rooms.\n",
    "\n",
    "The histogram of residuals follows a normal distribution. It suggests that the linear regression model might fit for this data.\n",
    "\n",
    "The R-squared is a little bit higher than the previous model, which means that this model fits better than the previous one."
   ]
  },
  {
   "cell_type": "markdown",
   "metadata": {},
   "source": [
    "**12. In the specification of question 10, test the hypothesis $H_0:\\beta_{\\text{nox}} <0$ vs. $H_1: \\beta_{\\text{nox}} > 0$ at the 1% level**\n"
   ]
  },
  {
   "cell_type": "code",
   "execution_count": 41,
   "metadata": {},
   "outputs": [
    {
     "name": "stdout",
     "output_type": "stream",
     "text": [
      "We reject the null hypothesis at the 1% level.\n"
     ]
    }
   ],
   "source": [
    "p_value = results10.pvalues['nox']\n",
    "\n",
    "print('The p-value for the coefficient on NOX is', p_value)\n",
    "\n",
    "if p_value < 0.01:\n",
    "    print(\"We reject the null hypothesis at the 1% level.\")\n",
    "else:\n",
    "    print(\"We do not reject the null hypothesis at the 1% level.\")"
   ]
  },
  {
   "cell_type": "markdown",
   "metadata": {},
   "source": [
    "**13.  In the specification of question 10, test the hypothesis $H_0:\\beta_{\\text{nox}} = 0$ vs. $H_1: \\beta_{\\text{nox}} \\neq 0$ at the 1% level using the p-value of the test**\n"
   ]
  },
  {
   "cell_type": "code",
   "execution_count": 11,
   "metadata": {},
   "outputs": [
    {
     "name": "stdout",
     "output_type": "stream",
     "text": [
      "We reject the null hypothesis at the 1% level.\n"
     ]
    }
   ],
   "source": [
    "p_value = results10.pvalues['nox']\n",
    "\n",
    "print('The p-value for the coefficient on NOX is', p_value)\n",
    "\n",
    "if p_value < 0.01:\n",
    "    print(\"We reject the null hypothesis at the 1% level.\")\n",
    "else:\n",
    "    print(\"We do not reject the null hypothesis at the 1% level.\")"
   ]
  },
  {
   "cell_type": "markdown",
   "metadata": {},
   "source": [
    "**14.  In the specification of question 10, test the hypothesis $H_0: \\beta_{\\text{crime}} = \\beta_{\\text{proptax}}$ at the 10% level**"
   ]
  },
  {
   "cell_type": "code",
   "execution_count": 48,
   "metadata": {},
   "outputs": [
    {
     "name": "stdout",
     "output_type": "stream",
     "text": [
      "We reject the null hypothesis at the 10% level.\n"
     ]
    }
   ],
   "source": [
    "hypotheses = '(crime = proptax)'\n",
    "\n",
    "f_test = results10.f_test(hypotheses)\n",
    "\n",
    "print('The p-value for the F-test is', f_test.pvalue.item())\n",
    "\n",
    "if f_test.pvalue < 0.10:\n",
    "  print(\"We reject the null hypothesis at the 10% level.\")\n",
    "else:\n",
    "  print(\"We do not reject the null hypothesis at the 10% level.\")"
   ]
  },
  {
   "cell_type": "markdown",
   "metadata": {},
   "source": [
    "**15. In the specification of question 10, test the hypothesis $H_0: \\beta_{\\text{nox}} = 0, \\, \\beta_{\\text{proptax}} = 0$ at the 10% level**\n",
    "    "
   ]
  },
  {
   "cell_type": "code",
   "execution_count": 12,
   "metadata": {},
   "outputs": [
    {
     "name": "stdout",
     "output_type": "stream",
     "text": [
      "We reject the null hypothesis at the 10% level.\n"
     ]
    }
   ],
   "source": [
    "hypotheses = '(nox = 0), (proptax = 0)'\n",
    "\n",
    "f_test = results10.f_test(hypotheses)\n",
    "\n",
    "if f_test.pvalue < 0.10:\n",
    "    print(\"We reject the null hypothesis at the 10% level.\")\n",
    "else:\n",
    "    print(\"We do not reject the null hypothesis at the 10% level.\")"
   ]
  },
  {
   "cell_type": "markdown",
   "metadata": {},
   "source": [
    "**16.  In the specification of question 10, test the hypothesis $H_0: \\beta_{\\text{nox}} = -500, \\, \\beta_{\\text{proptax}} = -100$ at the 10% level using the p-value of the test**"
   ]
  },
  {
   "cell_type": "code",
   "execution_count": 13,
   "metadata": {},
   "outputs": [
    {
     "name": "stdout",
     "output_type": "stream",
     "text": [
      "We reject the null hypothesis at the 10% level.\n"
     ]
    }
   ],
   "source": [
    "hypotheses = '(nox = -500), (proptax = -100)'\n",
    "\n",
    "f_test = results10.f_test(hypotheses)\n",
    "\n",
    "if f_test.pvalue < 0.10:\n",
    "  print(\"We reject the null hypothesis at the 10% level.\")\n",
    "else:\n",
    "  print(\"We do not reject the null hypothesis at the 10% level.\")"
   ]
  },
  {
   "cell_type": "markdown",
   "metadata": {},
   "source": [
    "**17. In the specification of question 10, test the hypothesis $H_0: \\beta_{\\text{nox}} + \\beta_{\\text{proptax}} = -1000$ at the 10% level using the p-value of the test**"
   ]
  },
  {
   "cell_type": "code",
   "execution_count": 14,
   "metadata": {},
   "outputs": [
    {
     "name": "stdout",
     "output_type": "stream",
     "text": [
      "We reject the null hypothesis at the 10% level.\n"
     ]
    }
   ],
   "source": [
    "hypotheses = '(nox + proptax = -1000)'\n",
    "\n",
    "f_test = results10.f_test(hypotheses)\n",
    "\n",
    "if f_test.pvalue < 0.10:\n",
    "    print(\"We reject the null hypothesis at the 10% level.\")\n",
    "else:\n",
    "    print(\"We do not reject the null hypothesis at the 10% level.\")"
   ]
  },
  {
   "cell_type": "markdown",
   "metadata": {},
   "source": [
    "**18. In the specification of question 10, test the hypothesis that all coefficients are the same for observations with low levels of nox vs. medium and high levels of nox.**"
   ]
  },
  {
   "cell_type": "code",
   "execution_count": 23,
   "metadata": {},
   "outputs": [
    {
     "name": "stdout",
     "output_type": "stream",
     "text": [
      "Coefficients for low levels:\n",
      "const      7.650538\n",
      "crime     -0.105771\n",
      "nox       -0.006234\n",
      "rooms      0.405795\n",
      "proptax   -0.003573\n",
      "dtype: float64\n",
      "\n",
      "Coefficients for medium and high levels:\n",
      "const      8.883016\n",
      "crime     -0.012800\n",
      "nox       -0.052477\n",
      "rooms      0.249811\n",
      "proptax   -0.004267\n",
      "dtype: float64\n",
      "\n",
      "Are the coefficients equal?\n",
      "const      False\n",
      "crime      False\n",
      "nox        False\n",
      "rooms      False\n",
      "proptax    False\n",
      "dtype: bool\n",
      "\n",
      "Hypothesis Test Results:\n",
      "         t_statistic   p_value  significant\n",
      "const       3.815693  0.012428         True\n",
      "crime       0.643800  0.548069        False\n",
      "nox        -0.796245  0.462003        False\n",
      "rooms      -5.953513  0.001911         True\n",
      "proptax    -0.358041  0.734932        False\n"
     ]
    }
   ],
   "source": [
    "df_low = df[df['nox_level'] == 'low']\n",
    "df_med_high = df[df['nox_level'] != 'low']\n",
    "\n",
    "X_low = df_low[['crime', 'nox', 'rooms', 'proptax']]\n",
    "y_low = df_low['lprice']\n",
    "\n",
    "X_med_high = df_med_high[['crime', 'nox', 'rooms', 'proptax']]\n",
    "y_med_high = df_med_high['lprice']\n",
    "\n",
    "X_low = sm.add_constant(X_low)\n",
    "X_med_high = sm.add_constant(X_med_high)\n",
    "\n",
    "model_low = sm.OLS(y_low, X_low)\n",
    "results_low = model_low.fit()\n",
    "\n",
    "model_med_high = sm.OLS(y_med_high, X_med_high)\n",
    "results_med_high = model_med_high.fit()\n",
    "\n",
    "def hypothesis_test(model_low, model_high, alpha=0.1):\n",
    "    # Get the coefficient estimates and standard errors from both models\n",
    "    coef_low = model_low.params\n",
    "    se_low = model_low.bse\n",
    "\n",
    "    coef_high = model_high.params\n",
    "    se_high = model_high.bse\n",
    "\n",
    "    # Calculate the t-statistic for the difference in coefficients\n",
    "    t_statistic = (coef_high - coef_low) / ((se_high**2 + se_low**2)**0.5)\n",
    "\n",
    "    # Calculate degrees of freedom\n",
    "    df = len(model_low.params)\n",
    "\n",
    "    # Calculate p-values\n",
    "    p_values = 2 * (1 - t.cdf(abs(t_statistic), df))\n",
    "\n",
    "    # Display results\n",
    "    results = pd.DataFrame({'t_statistic': t_statistic, 'p_value': p_values}, index=model_low.params.index)\n",
    "    results['significant'] = results['p_value'] < alpha\n",
    "\n",
    "    return results\n",
    "\n",
    "# Perform the hypothesis test\n",
    "results_hypothesis_test = hypothesis_test(results_low, results_med_high)\n",
    "\n",
    "# Display results\n",
    "print(\"\\nHypothesis Test Results:\")\n",
    "print(results_hypothesis_test)"
   ]
  },
  {
   "cell_type": "markdown",
   "metadata": {},
   "source": [
    "**19. Repeat the test of question 18 but now assuming that only the coefficients of nox and\n",
    "proptax can change between the two groups of observations. State and test $H_0$.**"
   ]
  },
  {
   "cell_type": "code",
   "execution_count": 22,
   "metadata": {},
   "outputs": [
    {
     "name": "stdout",
     "output_type": "stream",
     "text": [
      "Coefficients for low levels:\n",
      "const      7.650538\n",
      "crime     -0.105771\n",
      "nox       -0.006234\n",
      "rooms      0.405795\n",
      "proptax   -0.003573\n",
      "dtype: float64\n",
      "\n",
      "Coefficients for medium and high levels:\n",
      "const      8.883016\n",
      "crime     -0.012800\n",
      "nox       -0.052477\n",
      "rooms      0.249811\n",
      "proptax   -0.004267\n",
      "dtype: float64\n",
      "\n",
      "Are the coefficients equal?\n",
      "const      False\n",
      "crime      False\n",
      "nox        False\n",
      "rooms      False\n",
      "proptax    False\n",
      "dtype: bool\n",
      "\n",
      "Hypothesis Test Results:\n",
      "         t_statistic   p_value  significant\n",
      "const       3.815693  0.012428         True\n",
      "crime       0.643800  0.548069        False\n",
      "nox        -0.796245  0.462003        False\n",
      "rooms      -5.953513  0.001911         True\n",
      "proptax    -0.358041  0.734932        False\n"
     ]
    }
   ],
   "source": [
    "df_low = df[df['nox_level'] == 'low']\n",
    "df_med_high = df[df['nox_level'] != 'low']\n",
    "\n",
    "X_low = df_low[['crime', 'nox', 'rooms', 'proptax']]\n",
    "y_low = df_low['lprice']\n",
    "\n",
    "X_med_high = df_med_high[['crime', 'nox', 'rooms', 'proptax']]\n",
    "y_med_high = df_med_high['lprice']\n",
    "\n",
    "X_low = sm.add_constant(X_low)\n",
    "X_med_high = sm.add_constant(X_med_high)\n",
    "\n",
    "model_low = sm.OLS(y_low, X_low)\n",
    "results_low = model_low.fit()\n",
    "\n",
    "model_med_high = sm.OLS(y_med_high, X_med_high)\n",
    "results_med_high = model_med_high.fit()\n",
    "\n",
    "# Get the coefficients\n",
    "coeff_low = results_low.params\n",
    "coeff_med_high = results_med_high.params\n",
    "\n",
    "# Print the coefficients\n",
    "print(\"Coefficients for low levels:\")\n",
    "print(coeff_low)\n",
    "print(\"\\nCoefficients for medium and high levels:\")\n",
    "print(coeff_med_high)\n",
    "\n",
    "# Compare the coefficients\n",
    "equal_coeffs = coeff_low == coeff_med_high\n",
    "print(\"\\nAre the coefficients equal?\")\n",
    "print(equal_coeffs)\n",
    "\n",
    "def hypothesis_test(model_low, model_high, alpha=0.1):\n",
    "    # Get the coefficient estimates and standard errors from both models\n",
    "    coef_low = model_low.params\n",
    "    se_low = model_low.bse\n",
    "\n",
    "    coef_high = model_high.params\n",
    "    se_high = model_high.bse\n",
    "\n",
    "    # Calculate the t-statistic for the difference in coefficients\n",
    "    t_statistic = (coef_high - coef_low) / ((se_high**2 + se_low**2)**0.5)\n",
    "\n",
    "    # Calculate degrees of freedom\n",
    "    df = len(model_low.params)\n",
    "\n",
    "    # Calculate p-values\n",
    "    p_values = 2 * (1 - t.cdf(abs(t_statistic), df))\n",
    "\n",
    "    # Display results\n",
    "    results = pd.DataFrame({'t_statistic': t_statistic, 'p_value': p_values}, index=model_low.params.index)\n",
    "    results['significant'] = results['p_value'] < alpha\n",
    "\n",
    "    return results\n",
    "\n",
    "# Perform the hypothesis test\n",
    "results_hypothesis_test = hypothesis_test(results_low, results_med_high)\n",
    "\n",
    "# Display results\n",
    "print(\"\\nHypothesis Test Results:\")\n",
    "print(results_hypothesis_test)\n",
    "\n"
   ]
  },
  {
   "cell_type": "markdown",
   "metadata": {},
   "source": [
    "#### PART 2 - HETEROSKEDASTICITY"
   ]
  },
  {
   "cell_type": "markdown",
   "metadata": {},
   "source": [
    "**20. Explain the problem of heteroskedasticity with an example of the course.**"
   ]
  },
  {
   "cell_type": "markdown",
   "metadata": {},
   "source": [
    "The Heteroskedasticity problem arises when $Var(u|x)$ depends on $x$, indicating nonconstant variance. Since $Var(u|x) = Var(y|x)$, heteroskedasticity is present whenever $Var(y|x)$ is a function of $x$.\n",
    "\n",
    "We can visualize this problem with the example provided in the course, where we examine the relationship between education and wage. If, when creating the model, we assume homoskedasticity—that is, the variance of the error term is constant across all levels of education—we will encounter a problem. This is because when we analyze the real world, we can imagine that when a person has a higher education level, they will have more and distinct opportunities for work, and therefore, their wage will be more variable. On the other hand, a person with a lower education level will have fewer opportunities for work, and therefore, their wage will be less variable.\n",
    "\n",
    "Therefore, we can conclude that if we assume homoskedasticity, we will introduce bias into our model."
   ]
  },
  {
   "cell_type": "markdown",
   "metadata": {},
   "source": [
    "**21. Suppose that $E(u u') = \\sigma^2\\Omega$. Show that the GLS estimator is the best linear unbiased estimator.**"
   ]
  },
  {
   "cell_type": "code",
   "execution_count": null,
   "metadata": {},
   "outputs": [],
   "source": []
  },
  {
   "cell_type": "markdown",
   "metadata": {},
   "source": [
    "22. Show that the GLS estimator is the best linear unbiased estimator."
   ]
  },
  {
   "cell_type": "code",
   "execution_count": null,
   "metadata": {},
   "outputs": [],
   "source": []
  },
  {
   "cell_type": "markdown",
   "metadata": {},
   "source": [
    "1.  In the specification of question 10, test the hypothesis of no heteroskedasticity of linear form, i.e. in the regression of $u^2$ on constant, crime, nox, rooms, proptax, test $H_0: \\delta_{\\text{crime}}, \\delta_{\\text{nox}}, \\delta_{\\text{rooms}}, \\delta_{\\text{proptax}} = 0$, where the coefficients $\\delta_k$ (k = crime, nox, rooms, proptax) are associated with the corresponding explanatory variables.\n"
   ]
  },
  {
   "cell_type": "code",
   "execution_count": 31,
   "metadata": {},
   "outputs": [
    {
     "name": "stdout",
     "output_type": "stream",
     "text": [
      "We reject the null hypothesis at the 1% level.\n",
      "==============================================================================\n",
      "                            OLS Regression Results                            \n",
      "==============================================================================\n",
      "Dep. Variable:                      y   R-squared:                       0.126\n",
      "Model:                            OLS   Adj. R-squared:                  0.119\n",
      "Method:                 Least Squares   F-statistic:                     17.98\n",
      "Date:                Fri, 01 Dec 2023   Prob (F-statistic):           8.33e-14\n",
      "Time:                        16:42:39   Log-Likelihood:                 185.10\n",
      "No. Observations:                 506   AIC:                            -360.2\n",
      "Df Residuals:                     501   BIC:                            -339.1\n",
      "Df Model:                           4                                         \n",
      "Covariance Type:            nonrobust                                         \n",
      "==============================================================================\n",
      "                 coef    std err          t      P>|t|      [0.025      0.975]\n",
      "------------------------------------------------------------------------------\n",
      "const          0.0757      0.090      0.842      0.400      -0.101       0.253\n",
      "crime      -3.794e-05      0.001     -0.035      0.972      -0.002       0.002\n",
      "nox            0.0001      0.009      0.017      0.986      -0.017       0.017\n",
      "rooms         -0.0237      0.011     -2.096      0.037      -0.046      -0.001\n",
      "proptax        0.0034      0.001      5.026      0.000       0.002       0.005\n",
      "==============================================================================\n",
      "Omnibus:                      612.530   Durbin-Watson:                   0.914\n",
      "Prob(Omnibus):                  0.000   Jarque-Bera (JB):            48787.030\n",
      "Skew:                           5.865   Prob(JB):                         0.00\n",
      "Kurtosis:                      49.652   Cond. No.                         546.\n",
      "==============================================================================\n",
      "\n",
      "Notes:\n",
      "[1] Standard Errors assume that the covariance matrix of the errors is correctly specified.\n"
     ]
    }
   ],
   "source": [
    "X = df[['crime', 'nox', 'rooms', 'proptax']]\n",
    "\n",
    "X = sm.add_constant(X)\n",
    "\n",
    "u=results10.resid\n",
    "u2=u**2\n",
    "y=u2\n",
    "model=sm.OLS(y,X)\n",
    "results = model.fit()\n",
    "\n",
    "f_statistic = results.fvalue\n",
    "\n",
    "if (f_statistic > 1):\n",
    "    print(\"We reject the null hypothesis at the 1% level.\")\n",
    "else:\n",
    "    print(\"We do not reject the null hypothesis at the 1% level.\")\n",
    "\n",
    "\n",
    "print(\"=\"*78)\n",
    "print(results.summary())\n"
   ]
  },
  {
   "cell_type": "markdown",
   "metadata": {},
   "source": [
    "23. In the specification of question 11, test the hypothesis of no heteroskedasticity of linear form\n"
   ]
  },
  {
   "cell_type": "code",
   "execution_count": 34,
   "metadata": {},
   "outputs": [
    {
     "name": "stdout",
     "output_type": "stream",
     "text": [
      "We reject the null hypothesis at the 1% level.\n",
      "==============================================================================\n",
      "                            OLS Regression Results                            \n",
      "==============================================================================\n",
      "Dep. Variable:                      y   R-squared:                       0.116\n",
      "Model:                            OLS   Adj. R-squared:                  0.109\n",
      "Method:                 Least Squares   F-statistic:                     16.51\n",
      "Date:                Fri, 01 Dec 2023   Prob (F-statistic):           1.02e-12\n",
      "Time:                        16:45:10   Log-Likelihood:                 184.66\n",
      "No. Observations:                 506   AIC:                            -359.3\n",
      "Df Residuals:                     501   BIC:                            -338.2\n",
      "Df Model:                           4                                         \n",
      "Covariance Type:            nonrobust                                         \n",
      "==============================================================================\n",
      "                 coef    std err          t      P>|t|      [0.025      0.975]\n",
      "------------------------------------------------------------------------------\n",
      "const         -0.5496      0.167     -3.289      0.001      -0.878      -0.221\n",
      "crime          0.0006      0.001      0.577      0.564      -0.001       0.003\n",
      "lnox           0.0404      0.051      0.794      0.427      -0.060       0.140\n",
      "rooms         -0.0219      0.011     -1.928      0.054      -0.044       0.000\n",
      "lproptax       0.1149      0.028      4.128      0.000       0.060       0.170\n",
      "==============================================================================\n",
      "Omnibus:                      614.102   Durbin-Watson:                   0.913\n",
      "Prob(Omnibus):                  0.000   Jarque-Bera (JB):            48743.795\n",
      "Skew:                           5.895   Prob(JB):                         0.00\n",
      "Kurtosis:                      49.615   Cond. No.                         241.\n",
      "==============================================================================\n",
      "\n",
      "Notes:\n",
      "[1] Standard Errors assume that the covariance matrix of the errors is correctly specified.\n"
     ]
    }
   ],
   "source": [
    "X = df[['crime', 'lnox', 'rooms', 'lproptax']]\n",
    "X = sm.add_constant(X)\n",
    "\n",
    "u=results11.resid\n",
    "u2=u**2\n",
    "y=u2\n",
    "model=sm.OLS(y,X)\n",
    "results = model.fit()\n",
    "\n",
    "f_statistic = results.fvalue\n",
    "\n",
    "if (f_statistic > 1):\n",
    "    print(\"We reject the null hypothesis at the 1% level.\")\n",
    "else:\n",
    "    print(\"We do not reject the null hypothesis at the 1% level.\")\n",
    "\n",
    "\n",
    "print(\"=\"*78)\n",
    "print(results.summary())\n"
   ]
  },
  {
   "cell_type": "markdown",
   "metadata": {},
   "source": [
    "24. In the specification of question 12, test the hypothesis of no heteroskedasticity of linear form\n"
   ]
  },
  {
   "cell_type": "markdown",
   "metadata": {},
   "source": [
    "25. Comment on the differences between your results of questions 22,23, 24.\n"
   ]
  },
  {
   "cell_type": "markdown",
   "metadata": {},
   "source": [
    "26. Regardless of the results of the test of question 22, identify the most significant variable causing heteroskedasticity using the student statistics and run a WLS regression with the identified variable as weight."
   ]
  }
 ],
 "metadata": {
  "kernelspec": {
   "display_name": "Python 3",
   "language": "python",
   "name": "python3"
  },
  "language_info": {
   "codemirror_mode": {
    "name": "ipython",
    "version": 3
   },
   "file_extension": ".py",
   "mimetype": "text/x-python",
   "name": "python",
   "nbconvert_exporter": "python",
   "pygments_lexer": "ipython3",
   "version": "3.11.6"
  }
 },
 "nbformat": 4,
 "nbformat_minor": 2
}
